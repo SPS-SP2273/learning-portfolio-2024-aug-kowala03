{
 "cells": [
  {
   "attachments": {},
   "cell_type": "markdown",
   "id": "123456",
   "metadata": {},
   "source": [
    "<div style=\"text-align:left;font-size:2em\"><span style=\"font-weight:bolder;font-size:1.25em\">SP2273 | Learning Portfolio</span><br><br><span style=\"font-weight:bold;color:darkred\">Using Jupyter (Need), Exercises</span></div>"
   ]
  },
  {
   "attachments": {},
   "cell_type": "markdown",
   "id": "10bb4c3c",
   "metadata": {},
   "source": [
    "## 1 Quadratic Equations"
   ]
  },
  {
   "attachments": {},
   "cell_type": "markdown",
   "id": "e8d1abbc",
   "metadata": {},
   "source": [
    "### Introduction"
   ]
  },
  {
   "cell_type": "markdown",
   "id": "83f6e899-6091-468c-960c-3f533f80370a",
   "metadata": {},
   "source": [
    "![](https://upload.wikimedia.org/wikipedia/commons/thumb/f/f8/Polynomialdeg2.svg/300px-Polynomialdeg2.svg.png)\n",
    "\n",
    "(Image from the [Wikipedia page on Quadratic equations](https://en.wikipedia.org/wiki/Quadratic_equation))\n",
    "\n",
    "The general form of a quadratic equation is:\n",
    "$$\n",
    "ax^2+bx+c=0\n",
    "$$"
   ]
  },
  {
   "attachments": {},
   "cell_type": "markdown",
   "id": "bd796c5a",
   "metadata": {},
   "source": [
    "### Solutions"
   ]
  },
  {
   "cell_type": "markdown",
   "id": "153911ef-6bea-463e-96a4-b5f08310fe06",
   "metadata": {},
   "source": [
    "Provided $a\\ne0$, we can use an elementary algebraic method called [completing the square](https://en.wikipedia.org/wiki/Completing_the_square) to show that a quadratic equation has the following solution:\n",
    "$$\n",
    "x=\\dfrac{-b\\pm\\sqrt{b^2-4ac}}{2a}\n",
    "$$"
   ]
  },
  {
   "attachments": {},
   "cell_type": "markdown",
   "id": "6d6cab48",
   "metadata": {},
   "source": [
    "### Discriminant"
   ]
  },
  {
   "cell_type": "markdown",
   "id": "3ca0e4d2-48b9-4150-9e0e-c7be1a4d2756",
   "metadata": {},
   "source": [
    "The quantity $\\Delta=b^2-4ac$ is called the **discriminant** of the equation and decides the nature of its solutions. The table below shows the various possibilities.\n",
    "|**Discriminant**|**Roots**|\n",
    "|:-:|:-|\n",
    "|$\\Delta=b^2-4ac=0$|A single solution of $\\dfrac{-b}{(2a)}$|\n",
    "|$\\Delta=b^2-4ac\\gt0$|Two distinct solutions|\n",
    "|$\\Delta=b^2-4ac\\lt0$|No real solutions; both are complex.|"
   ]
  },
  {
   "cell_type": "markdown",
   "id": "a00a5e17-af7c-4859-b4ca-449912e7b763",
   "metadata": {},
   "source": [
    "**Exercise 2 (In Your Own Words)**\n",
    "1. A folder on the GitHub server created to hold files.\n",
    "2. changes\n",
    "3. It allows the user to decide what changes to track and add a brief description of those changes.\n",
    "4. It syncs the repository on Github with the local one, sharing any commits made, up to the origin.\n",
    "5. It sycns the local repository with the one on GitHub, saving any commits made, down from the origin."
   ]
  },
  {
   "cell_type": "markdown",
   "id": "097496d0-4d1a-47bb-b914-e43365f76872",
   "metadata": {},
   "source": [
    "**Exercise 3 (A Matter of Statistics)**\n",
    "\n",
    "$$\n",
    "\\mu=\\dfrac{1}{n}\\sum_{i=1}^{n}{x_i}\n",
    "$$\n",
    "$$\n",
    "\\sigma=\\sqrt{\\dfrac{1}{n}\\sum_{i=1}^{n}(x_i-\\mu)^2}\n",
    "$$\n",
    "$$\n",
    "r=\\dfrac{\\sum_{i=1}^{n}(x_i-\\mu_X)(y_i-\\mu_Y)}{\\sqrt{\\sum_{i=1}^{n}(x_i-\\mu_X)^2\\sum_{i=1}^{n}(y_i-\\mu_Y)^2}}\n",
    "$$"
   ]
  }
 ],
 "metadata": {
  "kernelspec": {
   "display_name": "Python 3 (ipykernel)",
   "language": "python",
   "name": "python3"
  },
  "language_info": {
   "codemirror_mode": {
    "name": "ipython",
    "version": 3
   },
   "file_extension": ".py",
   "mimetype": "text/x-python",
   "name": "python",
   "nbconvert_exporter": "python",
   "pygments_lexer": "ipython3",
   "version": "3.12.3"
  },
  "toc": {
   "base_numbering": 1,
   "nav_menu": {},
   "number_sections": true,
   "sideBar": true,
   "skip_h1_title": false,
   "title_cell": "Table of Contents",
   "title_sidebar": "Contents",
   "toc_cell": false,
   "toc_position": {},
   "toc_section_display": true,
   "toc_window_display": false
  },
  "vscode": {
   "interpreter": {
    "hash": "31f2aee4e71d21fbe5cf8b01ff0e069b9275f58929596ceb00d14d90e3e16cd6"
   }
  }
 },
 "nbformat": 4,
 "nbformat_minor": 5
}
