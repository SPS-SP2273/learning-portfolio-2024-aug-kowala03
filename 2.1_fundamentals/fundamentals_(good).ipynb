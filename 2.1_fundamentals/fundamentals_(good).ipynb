{
 "cells": [
  {
   "attachments": {},
   "cell_type": "markdown",
   "id": "123456",
   "metadata": {},
   "source": [
    "<div style=\"text-align:left;font-size:2em\"><span style=\"font-weight:bolder;font-size:1.25em\">SP2273 | Learning Portfolio</span><br><br><span style=\"font-weight:bold;color:darkred\">Fundamentals (Good)</span></div>"
   ]
  },
  {
   "cell_type": "code",
   "execution_count": 1,
   "id": "94dd7c93-6f48-4b3e-87f5-3cb0b90484fc",
   "metadata": {},
   "outputs": [],
   "source": [
    "import math\n",
    "import numpy as np"
   ]
  },
  {
   "attachments": {},
   "cell_type": "markdown",
   "id": "7059eb3a",
   "metadata": {},
   "source": [
    "# What to expect in this chapter"
   ]
  },
  {
   "attachments": {},
   "cell_type": "markdown",
   "id": "fb93dd33",
   "metadata": {},
   "source": [
    "# 1 There is more to if"
   ]
  },
  {
   "cell_type": "code",
   "execution_count": 2,
   "id": "02bd72a9-11eb-4946-b6e1-ac3d26fd52f6",
   "metadata": {},
   "outputs": [
    {
     "name": "stdout",
     "output_type": "stream",
     "text": [
      "Hello Batman!\n"
     ]
    }
   ],
   "source": [
    "name = 'Batman'\n",
    "\n",
    "if name == 'Batman':\n",
    "    print('Hello Batman!')\n",
    "elif name == 'Robin':\n",
    "    print('Hello Sidekick!')\n",
    "else:\n",
    "    print('Hello World!')"
   ]
  },
  {
   "attachments": {},
   "cell_type": "markdown",
   "id": "59210994",
   "metadata": {},
   "source": [
    "# 2 Asking questions"
   ]
  },
  {
   "cell_type": "code",
   "execution_count": 3,
   "id": "e1b0c225-12ba-497c-bcba-72df0108fd8a",
   "metadata": {},
   "outputs": [],
   "source": [
    "fruits = ['apple', 'banana', 'pineapple', 'jackfruit']\n",
    "vegetables = ['celery', 'potato', 'broccoli', 'kale']"
   ]
  },
  {
   "cell_type": "code",
   "execution_count": 4,
   "id": "19ff9d59-5ca0-403b-a86a-ed5ccbf4b13b",
   "metadata": {},
   "outputs": [
    {
     "data": {
      "text/plain": [
       "True"
      ]
     },
     "execution_count": 4,
     "metadata": {},
     "output_type": "execute_result"
    }
   ],
   "source": [
    "'apple' in fruits"
   ]
  },
  {
   "cell_type": "code",
   "execution_count": 5,
   "id": "b66a335b-b343-4769-8fe6-9a555912ebfc",
   "metadata": {},
   "outputs": [
    {
     "data": {
      "text/plain": [
       "True"
      ]
     },
     "execution_count": 5,
     "metadata": {},
     "output_type": "execute_result"
    }
   ],
   "source": [
    "'potato' in vegetables"
   ]
  },
  {
   "cell_type": "code",
   "execution_count": 6,
   "id": "fb2279ea-e948-4e46-917d-99147efcf6c7",
   "metadata": {},
   "outputs": [
    {
     "data": {
      "text/plain": [
       "False"
      ]
     },
     "execution_count": 6,
     "metadata": {},
     "output_type": "execute_result"
    }
   ],
   "source": [
    "'peach' in fruits"
   ]
  },
  {
   "cell_type": "code",
   "execution_count": 7,
   "id": "e57d070b-0bd5-45cf-9193-7a3498ecffd7",
   "metadata": {},
   "outputs": [
    {
     "data": {
      "text/plain": [
       "True"
      ]
     },
     "execution_count": 7,
     "metadata": {},
     "output_type": "execute_result"
    }
   ],
   "source": [
    "'peach' not in fruits # bolded in green are protected words as Python functions,\n",
    "                      # do not use as variables"
   ]
  },
  {
   "cell_type": "code",
   "execution_count": 8,
   "id": "6516e377-d3a4-44fc-822c-070b57b552e8",
   "metadata": {},
   "outputs": [
    {
     "data": {
      "text/plain": [
       "True"
      ]
     },
     "execution_count": 8,
     "metadata": {},
     "output_type": "execute_result"
    }
   ],
   "source": [
    "('apple' in fruits) and ('celery' in vegetables) # brackets are unnecessary\n",
    "# checks whether both statements are true"
   ]
  },
  {
   "cell_type": "code",
   "execution_count": 9,
   "id": "45fb4940-107c-4f8f-b107-8eade3d0a476",
   "metadata": {},
   "outputs": [
    {
     "name": "stdout",
     "output_type": "stream",
     "text": [
      "False\n",
      "True\n"
     ]
    },
    {
     "data": {
      "text/plain": [
       "True"
      ]
     },
     "execution_count": 9,
     "metadata": {},
     "output_type": "execute_result"
    }
   ],
   "source": [
    "print(('apple' not in fruits))\n",
    "print('celery' in vegetables)\n",
    "('apple' in fruits) or ('celery' in vegetables) # either True, True"
   ]
  },
  {
   "cell_type": "code",
   "execution_count": 10,
   "id": "9777ed41-3d74-46b4-8f32-6e701a8c7d69",
   "metadata": {},
   "outputs": [
    {
     "data": {
      "text/plain": [
       "True"
      ]
     },
     "execution_count": 10,
     "metadata": {},
     "output_type": "execute_result"
    }
   ],
   "source": [
    "'app' in 'apple'"
   ]
  },
  {
   "cell_type": "code",
   "execution_count": 11,
   "id": "2f1cb50c-8bf0-4ac5-9392-4afc052911b6",
   "metadata": {},
   "outputs": [
    {
     "data": {
      "text/plain": [
       "False"
      ]
     },
     "execution_count": 11,
     "metadata": {},
     "output_type": "execute_result"
    }
   ],
   "source": [
    "'apples' > 'oranges' # how are 2 words compared numerically? storage of data in comp"
   ]
  },
  {
   "cell_type": "markdown",
   "id": "b780f45b-77a8-46ba-9faf-3aaa88c15fbd",
   "metadata": {},
   "source": [
    "### Comparisons"
   ]
  },
  {
   "cell_type": "code",
   "execution_count": 12,
   "id": "9e9adbc3-f0c0-492e-aaea-f66aa4df463b",
   "metadata": {},
   "outputs": [
    {
     "data": {
      "text/plain": [
       "True"
      ]
     },
     "execution_count": 12,
     "metadata": {},
     "output_type": "execute_result"
    }
   ],
   "source": [
    "3 < 10.5"
   ]
  },
  {
   "cell_type": "code",
   "execution_count": 13,
   "id": "a948abdf-8902-4926-b012-c47c9b0f9aee",
   "metadata": {},
   "outputs": [
    {
     "data": {
      "text/plain": [
       "True"
      ]
     },
     "execution_count": 13,
     "metadata": {},
     "output_type": "execute_result"
    }
   ],
   "source": [
    "'apples' > 'Aranges' # only compares the value of 1st letter"
   ]
  },
  {
   "attachments": {},
   "cell_type": "markdown",
   "id": "40e5e7bd",
   "metadata": {},
   "source": [
    "## 2.1 Asking Math questions"
   ]
  },
  {
   "cell_type": "code",
   "execution_count": 14,
   "id": "4dd48fb1-1d82-4855-b8c0-62038b20aa91",
   "metadata": {},
   "outputs": [
    {
     "name": "stdout",
     "output_type": "stream",
     "text": [
      "1 <class 'int'>\n"
     ]
    }
   ],
   "source": [
    "x = int(1.234)    # converts value into integer\n",
    "print(x, type(x)) "
   ]
  },
  {
   "cell_type": "code",
   "execution_count": 15,
   "id": "d86381ef-a471-4e79-823f-476e1c0f98a5",
   "metadata": {},
   "outputs": [
    {
     "name": "stdout",
     "output_type": "stream",
     "text": [
      "<class 'float'>\n",
      "1 <class 'int'>\n"
     ]
    }
   ],
   "source": [
    "x=1.534\n",
    "print(type(x)) # starts off as float\n",
    "y=int(x)\n",
    "print(y,type(y)) # integer component remaining, NOT rounded off"
   ]
  },
  {
   "cell_type": "code",
   "execution_count": 16,
   "id": "aef54608-c140-4242-a8cd-eab222e347a6",
   "metadata": {},
   "outputs": [
    {
     "name": "stdout",
     "output_type": "stream",
     "text": [
      "1.234 <class 'str'>\n"
     ]
    }
   ],
   "source": [
    "x = str(1.234) # float stored as string\n",
    "print(x, type(x))"
   ]
  },
  {
   "cell_type": "code",
   "execution_count": 17,
   "id": "2b93fd03-691e-4cf8-9eb3-9ae7469552c5",
   "metadata": {},
   "outputs": [
    {
     "name": "stdout",
     "output_type": "stream",
     "text": [
      "2.646 5\n",
      "2.6457512 9\n",
      "2.6457513110645907 18\n"
     ]
    }
   ],
   "source": [
    "x=str(np.sqrt(7,dtype='float16'))\n",
    "print(x,len(x))\n",
    "\n",
    "x=str(np.sqrt(7,dtype='float32')) # can change data type for better optimisation\n",
    "print(x, len(x))\n",
    "\n",
    "x=str(np.sqrt(7,dtype='float64'))\n",
    "print(x,len(x))                   # float determines degree of precision/how many digits to store\n",
    "# to use len(), make sure object is string                        "
   ]
  },
  {
   "cell_type": "code",
   "execution_count": 18,
   "id": "ec288986-cdf1-4f47-851d-c9b7ebba6209",
   "metadata": {},
   "outputs": [
    {
     "name": "stdout",
     "output_type": "stream",
     "text": [
      "<class 'int'>\n",
      "1.0 <class 'float'>\n"
     ]
    }
   ],
   "source": [
    "print(type(1))\n",
    "x = float(1)\n",
    "print(x, type(x)) # converting integer to float"
   ]
  },
  {
   "cell_type": "code",
   "execution_count": 19,
   "id": "e40cffa5-7408-4ba0-b001-0d2d469f193e",
   "metadata": {},
   "outputs": [
    {
     "name": "stdout",
     "output_type": "stream",
     "text": [
      "(1.234+1j) <class 'complex'>\n",
      "1.5883186078366016 1.5883186078366016\n"
     ]
    }
   ],
   "source": [
    "x = complex(1.234,1) # 2nd argument is imaginary component\n",
    "print(x, type(x))\n",
    "print(abs(x),math.sqrt(1.234**2+1**2)) # abs(complex) gives modulus "
   ]
  },
  {
   "attachments": {},
   "cell_type": "markdown",
   "id": "86173066",
   "metadata": {},
   "source": [
    "# 3 Python stores information in different formats or types"
   ]
  },
  {
   "attachments": {},
   "cell_type": "markdown",
   "id": "da8ff66f",
   "metadata": {},
   "source": [
    "# 4 Never compare floats directly"
   ]
  },
  {
   "attachments": {},
   "cell_type": "markdown",
   "id": "d141028d",
   "metadata": {},
   "source": [
    "## 4.1 The Problem"
   ]
  },
  {
   "cell_type": "code",
   "execution_count": 20,
   "id": "4cc47920-bde8-4aff-8be5-4990e9b657c3",
   "metadata": {},
   "outputs": [
    {
     "data": {
      "text/plain": [
       "False"
      ]
     },
     "execution_count": 20,
     "metadata": {},
     "output_type": "execute_result"
    }
   ],
   "source": [
    "a = 0.1\n",
    "a3 = 0.3\n",
    "a * 3 == a3"
   ]
  },
  {
   "cell_type": "code",
   "execution_count": 21,
   "id": "8351fa19-37ee-4b20-a8bb-11d4fdbcd8bd",
   "metadata": {},
   "outputs": [
    {
     "data": {
      "text/plain": [
       "True"
      ]
     },
     "execution_count": 21,
     "metadata": {},
     "output_type": "execute_result"
    }
   ],
   "source": [
    "# Using integers, no issue\n",
    "A = 1\n",
    "A3 = 3\n",
    "A * 3 == A3"
   ]
  },
  {
   "cell_type": "code",
   "execution_count": 22,
   "id": "fd2a8f46-2df1-4f19-af8c-4f53676fda25",
   "metadata": {},
   "outputs": [
    {
     "data": {
      "text/plain": [
       "'0.29999999999999999'"
      ]
     },
     "execution_count": 22,
     "metadata": {},
     "output_type": "execute_result"
    }
   ],
   "source": [
    "f'{0.3:.17f}' # prints 0.3 to 17 d.p."
   ]
  },
  {
   "cell_type": "code",
   "execution_count": 23,
   "id": "98b53616-f10a-4438-b457-384c6e3d37a6",
   "metadata": {},
   "outputs": [
    {
     "data": {
      "text/plain": [
       "0.30000000000000004"
      ]
     },
     "execution_count": 23,
     "metadata": {},
     "output_type": "execute_result"
    }
   ],
   "source": [
    "a * 3 # roundoff/truncation error due to how floats are stored"
   ]
  },
  {
   "attachments": {},
   "cell_type": "markdown",
   "id": "f42323ad",
   "metadata": {},
   "source": [
    "## 4.2 A solution"
   ]
  },
  {
   "cell_type": "code",
   "execution_count": 24,
   "id": "b831663e-546a-4599-8474-afa54f55f7e5",
   "metadata": {},
   "outputs": [
    {
     "data": {
      "text/plain": [
       "True"
      ]
     },
     "execution_count": 24,
     "metadata": {},
     "output_type": "execute_result"
    }
   ],
   "source": [
    "eps = 1E-6 # epsilon for very small number\n",
    "abs(a * 3 - a3) < eps # absolute value of difference between the floats is veryyy small"
   ]
  },
  {
   "cell_type": "markdown",
   "id": "840c0587-0eb6-4172-8a69-1468ab92b821",
   "metadata": {},
   "source": [
    "$$\n",
    "\\epsilon = small \\space number\n",
    "$$\n",
    "$$\n",
    "|a * 3 - a3| \\lt \\epsilon\n",
    "$$"
   ]
  },
  {
   "cell_type": "code",
   "execution_count": 25,
   "id": "666cff53-2c55-4868-a019-039509d96227",
   "metadata": {},
   "outputs": [
    {
     "name": "stdout",
     "output_type": "stream",
     "text": [
      "0.3\n",
      "0.30000000000000004\n"
     ]
    },
    {
     "data": {
      "text/plain": [
       "np.True_"
      ]
     },
     "execution_count": 25,
     "metadata": {},
     "output_type": "execute_result"
    }
   ],
   "source": [
    "print(a3)\n",
    "print(a * 3)\n",
    "np.isclose(a3, a * 3) # good qn! what is the precision? default E-13 but can change by indicating parameters"
   ]
  },
  {
   "attachments": {},
   "cell_type": "markdown",
   "id": "4f3d3b7e",
   "metadata": {},
   "source": [
    "# 5 Combining English and variables"
   ]
  },
  {
   "cell_type": "code",
   "execution_count": 26,
   "id": "47938dd3-6189-465a-bb90-1e94781fcecd",
   "metadata": {},
   "outputs": [
    {
     "name": "stdout",
     "output_type": "stream",
     "text": [
      "Hello Batman!\n"
     ]
    }
   ],
   "source": [
    "name = \"Batman\"\n",
    "print(f\"Hello {name}!\")"
   ]
  },
  {
   "cell_type": "code",
   "execution_count": 27,
   "id": "1662fc45-efb6-4778-9661-a5cc74ce3beb",
   "metadata": {},
   "outputs": [
    {
     "name": "stdout",
     "output_type": "stream",
     "text": [
      "Hello BATMAN!\n"
     ]
    }
   ],
   "source": [
    "name = \"Batman\"\n",
    "print(f\"Hello {name.upper()}!\")"
   ]
  },
  {
   "cell_type": "code",
   "execution_count": 28,
   "id": "9d78fc3c-a6d4-4ecc-aef3-ace1e15c6da1",
   "metadata": {},
   "outputs": [
    {
     "name": "stdout",
     "output_type": "stream",
     "text": [
      "Hello {name.upper()}!\n"
     ]
    }
   ],
   "source": [
    "name = \"Batman\"\n",
    "print(\"Hello {name.upper()}!\") # f is importantttt"
   ]
  },
  {
   "cell_type": "code",
   "execution_count": 37,
   "id": "a18b003b-aa64-4fc4-a6ca-c4b693f36c05",
   "metadata": {},
   "outputs": [
    {
     "name": "stdout",
     "output_type": "stream",
     "text": [
      "BATMAN\n"
     ]
    },
    {
     "ename": "NameError",
     "evalue": "name 'upper' is not defined",
     "output_type": "error",
     "traceback": [
      "\u001b[1;31m---------------------------------------------------------------------------\u001b[0m",
      "\u001b[1;31mNameError\u001b[0m                                 Traceback (most recent call last)",
      "Cell \u001b[1;32mIn[37], line 2\u001b[0m\n\u001b[0;32m      1\u001b[0m \u001b[38;5;28mprint\u001b[39m(name\u001b[38;5;241m.\u001b[39mupper())\n\u001b[1;32m----> 2\u001b[0m \u001b[43mupper\u001b[49m(name) \u001b[38;5;66;03m# upper() needs the possessive dot, not argument\u001b[39;00m\n",
      "\u001b[1;31mNameError\u001b[0m: name 'upper' is not defined"
     ]
    }
   ],
   "source": [
    "print(name.upper())\n",
    "upper(name) # upper() needs the possessive dot, not argument"
   ]
  },
  {
   "cell_type": "code",
   "execution_count": 41,
   "id": "2b945179-1d71-4799-8f3a-6469ca4dc8f5",
   "metadata": {},
   "outputs": [
    {
     "name": "stdout",
     "output_type": "stream",
     "text": [
      "The value of 10 squared is 100!\n",
      "The value of 10 squared is 100!\n",
      "The value of 11 squared is 121!\n",
      "The value of 13 squared is 169!\n",
      "The value of 16 squared is 256!\n",
      "The value of 20 squared is 400!\n"
     ]
    }
   ],
   "source": [
    "x = 10\n",
    "\n",
    "for i in range(6):\n",
    "    print(f\"The value of {x} squared is {x**2}!\")\n",
    "    x+=i                                 # use of f and {} is f-string interpolation"
   ]
  },
  {
   "cell_type": "code",
   "execution_count": 29,
   "id": "90511119-0509-4f90-a075-bb081ce60487",
   "metadata": {},
   "outputs": [],
   "source": [
    "# f in front of string, variable in curly brackets "
   ]
  },
  {
   "cell_type": "code",
   "execution_count": 30,
   "id": "2e222496-f1ac-4abb-85b5-029ef642032f",
   "metadata": {},
   "outputs": [
    {
     "name": "stdout",
     "output_type": "stream",
     "text": [
      "Bruce Wayne is Batman.\n"
     ]
    }
   ],
   "source": [
    "text = 'Bruce Wayne is Batman.'\n",
    "print(f'{text}')"
   ]
  },
  {
   "cell_type": "code",
   "execution_count": 94,
   "id": "4914b9ca-dce7-4136-9421-f9e0e58be149",
   "metadata": {},
   "outputs": [
    {
     "name": "stdout",
     "output_type": "stream",
     "text": [
      "        Bruce Wayne is Batman.\n"
     ]
    }
   ],
   "source": [
    "text = 'Bruce Wayne is Batman.'\n",
    "print(f'{text:>30}')"
   ]
  },
  {
   "cell_type": "code",
   "execution_count": 96,
   "id": "00bc1063-a0c1-4daf-a490-755a38f760a1",
   "metadata": {},
   "outputs": [
    {
     "name": "stdout",
     "output_type": "stream",
     "text": [
      "    Bruce Wayne is Batman.    \n"
     ]
    }
   ],
   "source": [
    "text = 'Bruce Wayne is Batman.'\n",
    "print(f'{text:^30}')\n",
    "# same block size as right-aligned but the spaces are spread out to before\n",
    "# and after the text, so seems like less pushed to the right"
   ]
  },
  {
   "cell_type": "code",
   "execution_count": 138,
   "id": "05604a0b-e85f-41e7-ab6c-f6bd0b1829b4",
   "metadata": {},
   "outputs": [
    {
     "name": "stdout",
     "output_type": "stream",
     "text": [
      "Bruce Wayne is Batman.\n",
      "Bruce Wayne is Batman.\n",
      "Bruce Wayne is Batman.\n",
      "Bruce Wayne is Batman.\n",
      "Bruce Wayne is Batman.\n",
      "!Bruce Wayne is Batman.\n",
      "!!Bruce Wayne is Batman.\n",
      "!!!Bruce Wayne is Batman.\n",
      "!!!!Bruce Wayne is Batman.\n",
      "!!!!!Bruce Wayne is Batman.\n",
      "!!!!!!Bruce Wayne is Batman.\n",
      "!!!!!!!Bruce Wayne is Batman.\n",
      "!!!!!!!!Bruce Wayne is Batman.\n",
      "!!!!!!!!!Bruce Wayne is Batman.\n",
      "!!!!!!!!!!Bruce Wayne is Batman.\n",
      "!!!!!!!!!!!Bruce Wayne is Batman.\n",
      "!!!!!!!!!!!!Bruce Wayne is Batman.\n",
      "!!!!!!!!!!!!!Bruce Wayne is Batman.\n",
      "!!!!!!!!!!!!!!Bruce Wayne is Batman.\n",
      "!!!!!!!!!!!!!!!Bruce Wayne is Batman.\n",
      "!!!!!!!!!!!!!!!!Bruce Wayne is Batman.\n",
      "!!!!!!!!!!!!!!!!!Bruce Wayne is Batman.\n",
      "!!!!!!!!!!!!!!!!!!Bruce Wayne is Batman.\n",
      "!!!!!!!!!!!!!!!!!!!Bruce Wayne is Batman.\n",
      "!!!!!!!!!!!!!!!!!!!!Bruce Wayne is Batman.\n"
     ]
    }
   ],
   "source": [
    "text = 'Bruce Wayne is Batman.'\n",
    "\n",
    "for i in range(1,26):\n",
    "    x=len(text)-5\n",
    "    x+=i\n",
    "    print(f\"{text:!>{x}}\")     # you can use f-string again inside, no need another f\n",
    "# does nothing for 1st 5 as block is still shorter than the text\n",
    "# for x=len(text)+1, 1 space added to left of text to make it >"
   ]
  },
  {
   "cell_type": "code",
   "execution_count": 140,
   "id": "f5ed9197-fb46-4e47-8944-0acf9788a6e6",
   "metadata": {},
   "outputs": [
    {
     "name": "stdout",
     "output_type": "stream",
     "text": [
      "Bruce Wayne is Batman.\n",
      "Bruce Wayne is Batman.\n",
      "Bruce Wayne is Batman.\n",
      "Bruce Wayne is Batman.\n",
      "Bruce Wayne is Batman.\n",
      "Bruce Wayne is Batman.*\n",
      "Bruce Wayne is Batman.**\n",
      "Bruce Wayne is Batman.***\n",
      "Bruce Wayne is Batman.****\n",
      "Bruce Wayne is Batman.*****\n",
      "Bruce Wayne is Batman.******\n",
      "Bruce Wayne is Batman.*******\n",
      "Bruce Wayne is Batman.********\n",
      "Bruce Wayne is Batman.*********\n",
      "Bruce Wayne is Batman.**********\n",
      "Bruce Wayne is Batman.***********\n",
      "Bruce Wayne is Batman.************\n",
      "Bruce Wayne is Batman.*************\n",
      "Bruce Wayne is Batman.**************\n",
      "Bruce Wayne is Batman.***************\n",
      "Bruce Wayne is Batman.****************\n",
      "Bruce Wayne is Batman.*****************\n",
      "Bruce Wayne is Batman.******************\n",
      "Bruce Wayne is Batman.*******************\n",
      "Bruce Wayne is Batman.********************\n"
     ]
    }
   ],
   "source": [
    "text = 'Bruce Wayne is Batman.'\n",
    "\n",
    "for i in range(1,26):\n",
    "    x=len(text)-5\n",
    "    x+=i\n",
    "    print(f\"{text:*<{x}}\") # character after : determines what is used to fill in spaces "
   ]
  },
  {
   "cell_type": "code",
   "execution_count": 132,
   "id": "882ac985-2eb3-413c-b76b-f939af21f26b",
   "metadata": {},
   "outputs": [
    {
     "name": "stdout",
     "output_type": "stream",
     "text": [
      "Bruce Wayne is Batman.\n",
      " Bruce Wayne is Batman.\n",
      "   Bruce Wayne is Batman.\n",
      "      Bruce Wayne is Batman.\n",
      "          Bruce Wayne is Batman.\n",
      "               Bruce Wayne is Batman.\n",
      "                     Bruce Wayne is Batman.\n",
      "                            Bruce Wayne is Batman.\n",
      "                                    Bruce Wayne is Batman.\n",
      "                                             Bruce Wayne is Batman.\n",
      "                                                       Bruce Wayne is Batman.\n",
      "                                                                  Bruce Wayne is Batman.\n",
      "                                                                              Bruce Wayne is Batman.\n",
      "                                                                                           Bruce Wayne is Batman.\n",
      "                                                                                                         Bruce Wayne is Batman.\n",
      "                                                                                                                        Bruce Wayne is Batman.\n",
      "                                                                                                                                        Bruce Wayne is Batman.\n",
      "                                                                                                                                                         Bruce Wayne is Batman.\n",
      "                                                                                                                                                                           Bruce Wayne is Batman.\n",
      "                                                                                                                                                                                              Bruce Wayne is Batman.\n"
     ]
    }
   ],
   "source": [
    "text = 'Bruce Wayne is Batman.'\n",
    "\n",
    "x=len(text)\n",
    "\n",
    "for i in range(1,21):\n",
    "    print(f\"{text:>{x}}\")\n",
    "    x+=i\n",
    "# why does it just stay in place for last few iterations?"
   ]
  },
  {
   "cell_type": "code",
   "execution_count": 92,
   "id": "44ffbdad-cb79-446c-8d73-194901005b52",
   "metadata": {},
   "outputs": [
    {
     "name": "stdout",
     "output_type": "stream",
     "text": [
      "Name        Marks    Division    ID\n",
      "Raj           7         A        21\n",
      "Shivam        9         A        52\n",
      "Shreeya       8         C        27\n",
      "Kartik        5         B        38\n"
     ]
    }
   ],
   "source": [
    "# example from https://www.geeksforgeeks.org/string-alignment-in-python-f-string/ accessed 20/08/2024\n",
    "# assigning list values to the variables \n",
    "names = ['Raj', 'Shivam', 'Shreeya', 'Kartik'] \n",
    "marks = [7, 9, 8, 5] \n",
    "div = ['A', 'A', 'C', 'B'] \n",
    "id = [21, 52, 27, 38] \n",
    "  \n",
    "# printing Aligned Header \n",
    "print(f\"{'Name' : <10}{'Marks' : ^10}{'Division' : ^10}{'ID' : >5}\") \n",
    "  \n",
    "# printing values of variables in Aligned manner \n",
    "for i in range(0, 4): \n",
    "    print(f\"{names[i] : <10}{marks[i] : ^10}{div[i] : ^10}{id[i] : >5}\") "
   ]
  },
  {
   "cell_type": "code",
   "execution_count": 93,
   "id": "38ae3f66-592b-422b-8980-7badf0220497",
   "metadata": {},
   "outputs": [],
   "source": [
    "# personal understanding: generates 4 blocks of text of the specified lengths, 10, 10, 10, 5, \n",
    "# adds in spaces to create alignment, number of which is related to \n",
    "# length of box less text"
   ]
  },
  {
   "cell_type": "code",
   "execution_count": 118,
   "id": "1a67e357-d2a5-43d1-a677-05cec0714021",
   "metadata": {},
   "outputs": [
    {
     "name": "stdout",
     "output_type": "stream",
     "text": [
      "31.006276680299816 <class 'float'>\n",
      "The cube of pi to 6 digits is 31.0063\n",
      "The cube of pi to 6 decimal places is 31.006277\n",
      "The cube of pi to 6 decimal places in scientific notation is 3.100628e+01\n"
     ]
    }
   ],
   "source": [
    "h=np.pi**3\n",
    "print(h,type(h))\n",
    "print(f'The cube of pi to 6 digits is {h:6g}')\n",
    "print(f'The cube of pi to 6 decimal places is {np.pi**3:.6f}') # 6 d.p.\n",
    "print(f'The cube of pi to 6 decimal places in scientific notation is {np.pi**3:.6e}')"
   ]
  },
  {
   "attachments": {},
   "cell_type": "markdown",
   "id": "08831250",
   "metadata": {},
   "source": [
    "## 5.1 Structure of f-strings"
   ]
  },
  {
   "attachments": {},
   "cell_type": "markdown",
   "id": "6fd0ac7d",
   "metadata": {},
   "source": [
    "# 6 Escape sequences"
   ]
  },
  {
   "cell_type": "code",
   "execution_count": 141,
   "id": "d06967e7-1bf4-4f5a-82a4-89a1b1dc67d3",
   "metadata": {},
   "outputs": [
    {
     "name": "stdout",
     "output_type": "stream",
     "text": [
      "Line 1\n",
      "\tLine 2\n",
      "\t\tLine 3\n"
     ]
    }
   ],
   "source": [
    "print('Line 1\\n\\tLine 2\\n\\t\\tLine 3')"
   ]
  },
  {
   "cell_type": "code",
   "execution_count": 144,
   "id": "ca16e84f-c72f-4261-adab-e996fcd2989c",
   "metadata": {},
   "outputs": [
    {
     "name": "stdout",
     "output_type": "stream",
     "text": [
      "You're twenty years old.\n"
     ]
    }
   ],
   "source": [
    "print('You\\'re twenty years old.') "
   ]
  },
  {
   "cell_type": "code",
   "execution_count": 145,
   "id": "d3daece9-dcab-445c-8a46-f9c7aaec1ae5",
   "metadata": {},
   "outputs": [
    {
     "ename": "SyntaxError",
     "evalue": "unterminated string literal (detected at line 1) (2423575377.py, line 1)",
     "output_type": "error",
     "traceback": [
      "\u001b[1;36m  Cell \u001b[1;32mIn[145], line 1\u001b[1;36m\u001b[0m\n\u001b[1;33m    print('You're twenty years old.') # error due to matching of the quotes wrongly\u001b[0m\n\u001b[1;37m                                   ^\u001b[0m\n\u001b[1;31mSyntaxError\u001b[0m\u001b[1;31m:\u001b[0m unterminated string literal (detected at line 1)\n"
     ]
    }
   ],
   "source": [
    "print('You're twenty years old.') # error due to matching of the quotes wrongly"
   ]
  },
  {
   "cell_type": "code",
   "execution_count": 146,
   "id": "5334e4f6-764d-47c6-aecc-ad486d832e80",
   "metadata": {},
   "outputs": [
    {
     "name": "stdout",
     "output_type": "stream",
     "text": [
      "A\\B\\C\n"
     ]
    }
   ],
   "source": [
    "print('A\\\\B\\\\C')"
   ]
  },
  {
   "cell_type": "code",
   "execution_count": 147,
   "id": "ad911a82-b991-4167-9ad7-612b385fb183",
   "metadata": {},
   "outputs": [
    {
     "name": "stdout",
     "output_type": "stream",
     "text": [
      "A\n",
      "B\n",
      "C\n"
     ]
    }
   ],
   "source": [
    "print('A\\nB\\nC')"
   ]
  },
  {
   "cell_type": "code",
   "execution_count": 148,
   "id": "183725a2-2ad8-4287-a6dc-dddab4117d6d",
   "metadata": {},
   "outputs": [
    {
     "name": "stdout",
     "output_type": "stream",
     "text": [
      "A\tB\tC\n"
     ]
    }
   ],
   "source": [
    "print('A\\tB\\tC')"
   ]
  },
  {
   "attachments": {},
   "cell_type": "markdown",
   "id": "7b1eb8bb",
   "metadata": {},
   "source": [
    "## 6.1 Self-documenting f-strings"
   ]
  },
  {
   "cell_type": "code",
   "execution_count": 149,
   "id": "243d06c1-baf1-46b4-82a0-05300e0f5547",
   "metadata": {},
   "outputs": [
    {
     "name": "stdout",
     "output_type": "stream",
     "text": [
      "x=42 and y=24\n"
     ]
    }
   ],
   "source": [
    "x, y= 42, 24\n",
    "print(f'{x=} and {y=}')"
   ]
  },
  {
   "cell_type": "code",
   "execution_count": 150,
   "id": "0ce833dd-5e80-4719-81ed-76aae5ed90bd",
   "metadata": {},
   "outputs": [
    {
     "name": "stdout",
     "output_type": "stream",
     "text": [
      "x=8.400 and y=4.800000\n"
     ]
    }
   ],
   "source": [
    "x, y= 42/5, 24/5\n",
    "print(f'{x=:.3f} and {y=:.6f}')"
   ]
  },
  {
   "attachments": {},
   "cell_type": "markdown",
   "id": "396fc412",
   "metadata": {},
   "source": [
    "# 7 Computers read = from Right to Left!"
   ]
  },
  {
   "attachments": {},
   "cell_type": "markdown",
   "id": "424a256c",
   "metadata": {},
   "source": [
    "# 8 Shorter and Cleaner Code"
   ]
  },
  {
   "attachments": {},
   "cell_type": "markdown",
   "id": "9b251d0b",
   "metadata": {},
   "source": [
    "# 9 Python can be a prima-donna."
   ]
  },
  {
   "attachments": {},
   "cell_type": "markdown",
   "id": "74dd71a4",
   "metadata": {},
   "source": [
    "# 10 Best Practices for Scientific Computing"
   ]
  },
  {
   "attachments": {},
   "cell_type": "markdown",
   "id": "e9d0b1eb",
   "metadata": {},
   "source": [
    "# 11 Looking for help"
   ]
  },
  {
   "attachments": {},
   "cell_type": "markdown",
   "id": "5d3f422b",
   "metadata": {},
   "source": [
    "## References"
   ]
  },
  {
   "attachments": {},
   "cell_type": "markdown",
   "id": "9e5947af",
   "metadata": {},
   "source": [
    "## Footnotes"
   ]
  }
 ],
 "metadata": {
  "kernelspec": {
   "display_name": "Python 3 (ipykernel)",
   "language": "python",
   "name": "python3"
  },
  "language_info": {
   "codemirror_mode": {
    "name": "ipython",
    "version": 3
   },
   "file_extension": ".py",
   "mimetype": "text/x-python",
   "name": "python",
   "nbconvert_exporter": "python",
   "pygments_lexer": "ipython3",
   "version": "3.12.3"
  },
  "toc": {
   "base_numbering": 1,
   "nav_menu": {},
   "number_sections": true,
   "sideBar": true,
   "skip_h1_title": false,
   "title_cell": "Table of Contents",
   "title_sidebar": "Contents",
   "toc_cell": false,
   "toc_position": {},
   "toc_section_display": true,
   "toc_window_display": false
  },
  "vscode": {
   "interpreter": {
    "hash": "31f2aee4e71d21fbe5cf8b01ff0e069b9275f58929596ceb00d14d90e3e16cd6"
   }
  }
 },
 "nbformat": 4,
 "nbformat_minor": 5
}
