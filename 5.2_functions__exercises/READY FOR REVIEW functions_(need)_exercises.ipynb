{
 "cells": [
  {
   "attachments": {},
   "cell_type": "markdown",
   "id": "123456",
   "metadata": {},
   "source": [
    "<div style=\"text-align:left;font-size:2em\"><span style=\"font-weight:bolder;font-size:1.25em\">SP2273 | Learning Portfolio</span><br><br><span style=\"font-weight:bold;color:darkred\">Functions (Need) Exercises</span></div>"
   ]
  },
  {
   "cell_type": "code",
   "execution_count": 2,
   "id": "52cf49ba-df00-4741-9ad6-36a72716dc97",
   "metadata": {},
   "outputs": [
    {
     "data": {
      "text/plain": [
       "'Hello Spiderman!'"
      ]
     },
     "execution_count": 2,
     "metadata": {},
     "output_type": "execute_result"
    }
   ],
   "source": [
    "def greeting(name):\n",
    "    if name == 'Batman':\n",
    "        return 'Hello Batman! So, nice to meet you!'\n",
    "    return f'Hello {name}!'\n",
    "\n",
    "greeting('Spiderman')"
   ]
  },
  {
   "cell_type": "markdown",
   "id": "f93add7b-1b0e-4e2c-a761-2f0c058ae07a",
   "metadata": {},
   "source": [
    "The defined function has already stored the entered string in the variable name. Even if the if statement fails to go through, Python is still running within the function, the function can still return name."
   ]
  },
  {
   "cell_type": "code",
   "execution_count": 5,
   "id": "183aa8db-e1bc-4e59-a887-2a860a716936",
   "metadata": {},
   "outputs": [],
   "source": [
    "def calculate_bmi(weight, height):\n",
    "    BMI = weight / height**2\n",
    "    if BMI < 18.5:\n",
    "        return 'Underweight'\n",
    "    if 18.5 < BMI < 24.9:\n",
    "        return 'Normal Weight'\n",
    "    if 25 < BMI < 29.9:\n",
    "        return \"Overweight\"\n",
    "    if BMI > 30:\n",
    "        return \"Obese\""
   ]
  },
  {
   "cell_type": "code",
   "execution_count": 7,
   "id": "3a73c2cf-c4b6-4141-9fd8-656182dec45f",
   "metadata": {},
   "outputs": [
    {
     "name": "stdout",
     "output_type": "stream",
     "text": [
      "Normal Weight Overweight Underweight Obese\n"
     ]
    }
   ],
   "source": [
    "print(calculate_bmi(67,1.73),\n",
    "calculate_bmi(80,1.73),\n",
    "calculate_bmi(50,1.8),\n",
    "calculate_bmi(90,1.7))"
   ]
  },
  {
   "cell_type": "code",
   "execution_count": 3,
   "id": "9c8b8545-1618-49fd-a2a6-21db04af0128",
   "metadata": {},
   "outputs": [
    {
     "name": "stdout",
     "output_type": "stream",
     "text": [
      "1 3628800 6689502913449127057588118054090372586752746333138029810295671352301633557244962989366874165271984981308157637893214090552534408589408121859898481114389650005964960521256960000000000000000000000000000\n"
     ]
    }
   ],
   "source": [
    "def factorial(n):\n",
    "    if n < 0:\n",
    "        return \"We don't do that here.\"\n",
    "    i = 1\n",
    "    while n > 0:\n",
    "        i *= n\n",
    "        n += -1\n",
    "    return i\n",
    "\n",
    "print(factorial(0), factorial(10),factorial(factorial(5)))"
   ]
  }
 ],
 "metadata": {
  "kernelspec": {
   "display_name": "Python 3 (ipykernel)",
   "language": "python",
   "name": "python3"
  },
  "language_info": {
   "codemirror_mode": {
    "name": "ipython",
    "version": 3
   },
   "file_extension": ".py",
   "mimetype": "text/x-python",
   "name": "python",
   "nbconvert_exporter": "python",
   "pygments_lexer": "ipython3",
   "version": "3.12.3"
  },
  "toc": {
   "base_numbering": 1,
   "nav_menu": {},
   "number_sections": true,
   "sideBar": true,
   "skip_h1_title": false,
   "title_cell": "Table of Contents",
   "title_sidebar": "Contents",
   "toc_cell": false,
   "toc_position": {},
   "toc_section_display": true,
   "toc_window_display": false
  },
  "vscode": {
   "interpreter": {
    "hash": "31f2aee4e71d21fbe5cf8b01ff0e069b9275f58929596ceb00d14d90e3e16cd6"
   }
  }
 },
 "nbformat": 4,
 "nbformat_minor": 5
}
