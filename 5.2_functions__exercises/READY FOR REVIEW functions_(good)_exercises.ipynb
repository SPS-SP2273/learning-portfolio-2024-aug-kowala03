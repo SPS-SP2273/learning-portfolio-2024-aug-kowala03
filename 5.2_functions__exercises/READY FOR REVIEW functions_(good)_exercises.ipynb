{
 "cells": [
  {
   "attachments": {},
   "cell_type": "markdown",
   "id": "123456",
   "metadata": {},
   "source": [
    "<div style=\"text-align:left;font-size:2em\"><span style=\"font-weight:bolder;font-size:1.25em\">SP2273 | Learning Portfolio</span><br><br><span style=\"font-weight:bold;color:darkred\">Functions (Good) Exercises</span></div>"
   ]
  },
  {
   "cell_type": "code",
   "execution_count": 19,
   "id": "9e5f3e80-b35d-4093-8085-86b91e005c3d",
   "metadata": {},
   "outputs": [
    {
     "name": "stdout",
     "output_type": "stream",
     "text": [
      "The temperature in Fahrenheit is -38.2\n",
      "The temperature in Kelvin is 373.15\n"
     ]
    }
   ],
   "source": [
    "def convert_celsius(temperature_celsius,target_scale='Fahrenheit'):\n",
    "    if target_scale == 'Fahrenheit':\n",
    "        temp = (temperature_celsius * 9/5) + 32\n",
    "        return print(f'The temperature in Fahrenheit is {temp}')\n",
    "    if target_scale == 'Kelvin':\n",
    "        temp = temperature_celsius + 273.15\n",
    "        return print(f'The temperature in Kelvin is {temp}')\n",
    "\n",
    "convert_celsius(-39)\n",
    "convert_celsius(100, 'Kelvin')"
   ]
  },
  {
   "cell_type": "code",
   "execution_count": 30,
   "id": "73c08ac3-9b1a-49d8-a258-1e5b6d47da8f",
   "metadata": {},
   "outputs": [
    {
     "name": "stdout",
     "output_type": "stream",
     "text": [
      "The temperature in Celsius is 32.22222222222222\n",
      "The temperature in Kelvin is 305.3722222222222\n"
     ]
    }
   ],
   "source": [
    "def convert_fahrenheit(temperature_fahrenheit,target_scale='Celsius'):\n",
    "    if target_scale == 'Celsius':\n",
    "        temp = (temperature_fahrenheit - 32) * 5/9\n",
    "        return print(f'The temperature in Celsius is {temp}')\n",
    "    if target_scale == 'Kelvin':\n",
    "        temp = (temperature_fahrenheit - 32) * 5/9 +273.15\n",
    "        return print(f'The temperature in Kelvin is {temp}')\n",
    "\n",
    "convert_fahrenheit(90)\n",
    "convert_fahrenheit(90, 'Kelvin')"
   ]
  },
  {
   "cell_type": "code",
   "execution_count": 34,
   "id": "57286061-d530-49fa-85cb-2f8e2c76056b",
   "metadata": {},
   "outputs": [
    {
     "name": "stdout",
     "output_type": "stream",
     "text": [
      "The temperature in Celsius is 0.0\n",
      "The temperature in Celsius is 32.22222222222222\n",
      "The temperature in Fahrenheit is 248.0\n"
     ]
    }
   ],
   "source": [
    "def convert_temperature(temperature, source_scale, target_scale):\n",
    "    if source_scale == 'Celsius':\n",
    "        return convert_celsius(temperature, target_scale)\n",
    "    elif source_scale == 'Fahrenheit':\n",
    "        return convert_fahrenheit(temperature, target_scale)\n",
    "    elif source_scale == 'Kelvin':\n",
    "        if target_scale == 'Celsius':\n",
    "            temp = temperature - 273.15\n",
    "            return print(f'The temperature in Celsius is {temp}')\n",
    "        if target_scale == 'Fahrenheit':\n",
    "            temp = (temperature -273.15) * 9/5 + 32\n",
    "            return print(f'The temperature in Fahrenheit is {temp}')\n",
    "\n",
    "convert_temperature(273.15, 'Kelvin', 'Celsius')\n",
    "convert_temperature(90, 'Fahrenheit', 'Celsius')\n",
    "convert_temperature(120, 'Celsius', 'Fahrenheit')"
   ]
  },
  {
   "cell_type": "code",
   "execution_count": null,
   "id": "574bd6ab-c3bb-4991-a274-ba65f5bd7348",
   "metadata": {},
   "outputs": [],
   "source": []
  }
 ],
 "metadata": {
  "kernelspec": {
   "display_name": "Python 3 (ipykernel)",
   "language": "python",
   "name": "python3"
  },
  "language_info": {
   "codemirror_mode": {
    "name": "ipython",
    "version": 3
   },
   "file_extension": ".py",
   "mimetype": "text/x-python",
   "name": "python",
   "nbconvert_exporter": "python",
   "pygments_lexer": "ipython3",
   "version": "3.12.3"
  },
  "toc": {
   "base_numbering": 1,
   "nav_menu": {},
   "number_sections": true,
   "sideBar": true,
   "skip_h1_title": false,
   "title_cell": "Table of Contents",
   "title_sidebar": "Contents",
   "toc_cell": false,
   "toc_position": {},
   "toc_section_display": true,
   "toc_window_display": false
  },
  "vscode": {
   "interpreter": {
    "hash": "31f2aee4e71d21fbe5cf8b01ff0e069b9275f58929596ceb00d14d90e3e16cd6"
   }
  }
 },
 "nbformat": 4,
 "nbformat_minor": 5
}
