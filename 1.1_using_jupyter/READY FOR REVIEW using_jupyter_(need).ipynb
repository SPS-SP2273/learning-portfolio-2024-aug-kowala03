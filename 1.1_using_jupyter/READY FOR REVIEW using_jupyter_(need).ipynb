{
 "cells": [
  {
   "attachments": {},
   "cell_type": "markdown",
   "id": "123456",
   "metadata": {},
   "source": [
    "<div style=\"text-align:left;font-size:2em\"><span style=\"font-weight:bolder;font-size:1.25em\">SP2273 | Learning Portfolio</span><br><br><span style=\"font-weight:bold;color:darkred\">Using Jupyter (Need)</span></div>"
   ]
  },
  {
   "attachments": {},
   "cell_type": "markdown",
   "id": "84ae7595",
   "metadata": {},
   "source": [
    "# What to expect in this chapter"
   ]
  },
  {
   "attachments": {},
   "cell_type": "markdown",
   "id": "063a6d15",
   "metadata": {},
   "source": [
    "# 1 Getting ready"
   ]
  },
  {
   "attachments": {},
   "cell_type": "markdown",
   "id": "50ff2ccd",
   "metadata": {},
   "source": [
    "# 2 Getting started with Jupyter"
   ]
  },
  {
   "attachments": {},
   "cell_type": "markdown",
   "id": "1ee3ea2d",
   "metadata": {},
   "source": [
    "## 2.1 It is all about running cells"
   ]
  },
  {
   "cell_type": "code",
   "execution_count": 1,
   "id": "2347bbc9-563a-44ea-af3e-1c60dbd7b832",
   "metadata": {},
   "outputs": [
    {
     "name": "stdout",
     "output_type": "stream",
     "text": [
      "Hello World!\n"
     ]
    }
   ],
   "source": [
    "## 2.2 A traditional start\n",
    "\n",
    "print('Hello World!')"
   ]
  },
  {
   "attachments": {},
   "cell_type": "markdown",
   "id": "628248d8",
   "metadata": {},
   "source": [
    "# 3 All about Markdown"
   ]
  },
  {
   "attachments": {},
   "cell_type": "markdown",
   "id": "3bbf7059",
   "metadata": {},
   "source": [
    "## 3.1 Rendering Markdown cells\n",
    "\n",
    "The ships hung in the sky in much the same way that bricks don’t."
   ]
  },
  {
   "attachments": {},
   "cell_type": "markdown",
   "id": "17337ce7",
   "metadata": {},
   "source": [
    "## 3.2 Some basic syntax\n",
    "\n",
    "The ships *hung in the sky* in much the same way that **bricks don’t.**<sup>1</sup><sub>QUOTE</sub>"
   ]
  },
  {
   "attachments": {},
   "cell_type": "markdown",
   "id": "eb8fc16f",
   "metadata": {},
   "source": [
    "## 3.3 Headings\n",
    "\n",
    "### 3.3.1 Smaller Heading\n",
    "\n",
    "#### 3.3.1.1 Even Smaller Heading\n",
    "\n",
    "###### 3.3.1.1.1 The Smallest Heading"
   ]
  },
  {
   "attachments": {},
   "cell_type": "markdown",
   "id": "fca3530c",
   "metadata": {},
   "source": [
    "## 3.4 Displaying Code\n",
    "\n",
    "This `print('Hello World!')` is an inline code.\n",
    "\n",
    "Block code:\n",
    "```python\n",
    "print('Hello World!')\n",
    "```"
   ]
  },
  {
   "attachments": {},
   "cell_type": "markdown",
   "id": "c44046ef",
   "metadata": {},
   "source": [
    "## 3.5 Links\n",
    "\n",
    "[SP2273 Website](https://sps.nus.edu.sg/sp2273)"
   ]
  },
  {
   "attachments": {},
   "cell_type": "markdown",
   "id": "9a19fb1d",
   "metadata": {},
   "source": [
    "## 3.6 Images\n",
    "\n",
    "![](https://nus.edu.sg/images/default-source/base/logo.png)"
   ]
  },
  {
   "attachments": {},
   "cell_type": "markdown",
   "id": "1e31ed0c",
   "metadata": {},
   "source": [
    "## 3.7 Tables\n",
    "\n",
    "|   A   |   B   |   C   |\n",
    "|-------|-------|-------|\n",
    "|a<sub>1|b<sub>1|c<sub>1|\n",
    "|a<sub>2|b<sub>2|c<sub>2|\n",
    "|a<sub>3|b<sub>3|c<sub>3|\n",
    "\n",
    "Additional spaces and dashes are for alignment of the borders in editor\n",
    "\n",
    "|Monday|Tuesday|Wednesday|\n",
    "|-:|:-|:-:|\n",
    "|Sleep|Work|Rest|\n",
    "\n",
    "Right align, left align, centered"
   ]
  },
  {
   "attachments": {},
   "cell_type": "markdown",
   "id": "c0f48484",
   "metadata": {},
   "source": [
    "## 3.8 Lists\n",
    "\n",
    "1. Master Yoda\n",
    "    - Green\n",
    "1. Luke Skywalker\n",
    "1. Anakin Skywalker\n",
    "    1. Someone's father\n",
    "   1. Maybe Luke's?"
   ]
  },
  {
   "attachments": {},
   "cell_type": "markdown",
   "id": "21a5e9b6",
   "metadata": {},
   "source": [
    "## 3.9 Equations\n",
    "\n",
    "Inline discriminant $\\sqrt{b^2-4ac}$\n",
    "\n",
    "Block o' Math\n",
    "$$\n",
    "x=\\dfrac{-b \\pm \\sqrt{b^2-4ac}}{2a}\n",
    "$$"
   ]
  },
  {
   "attachments": {},
   "cell_type": "markdown",
   "id": "302bf49f",
   "metadata": {},
   "source": [
    "## Footnotes"
   ]
  }
 ],
 "metadata": {
  "kernelspec": {
   "display_name": "Python 3 (ipykernel)",
   "language": "python",
   "name": "python3"
  },
  "language_info": {
   "codemirror_mode": {
    "name": "ipython",
    "version": 3
   },
   "file_extension": ".py",
   "mimetype": "text/x-python",
   "name": "python",
   "nbconvert_exporter": "python",
   "pygments_lexer": "ipython3",
   "version": "3.12.3"
  },
  "toc": {
   "base_numbering": 1,
   "nav_menu": {},
   "number_sections": true,
   "sideBar": true,
   "skip_h1_title": false,
   "title_cell": "Table of Contents",
   "title_sidebar": "Contents",
   "toc_cell": false,
   "toc_position": {},
   "toc_section_display": true,
   "toc_window_display": false
  },
  "vscode": {
   "interpreter": {
    "hash": "31f2aee4e71d21fbe5cf8b01ff0e069b9275f58929596ceb00d14d90e3e16cd6"
   }
  }
 },
 "nbformat": 4,
 "nbformat_minor": 5
}
