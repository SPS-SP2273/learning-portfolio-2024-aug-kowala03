{
 "cells": [
  {
   "cell_type": "markdown",
   "id": "816f18ba-8b82-41b7-8bd2-715ef8ab271b",
   "metadata": {},
   "source": [
    "# The ships *hung in the sky* in much the same way that **bricks don’t.**<sup>1</sup><sub>QUOTE</sub>\n",
    "## Displaying Code\n",
    "```python\n",
    "print('Hello World!')\n",
    "```\n",
    "## Links\n",
    "[SP2273 Website](https://sps.nus.edu.sg/sp2273)\n",
    "## Equations\n",
    "$$\\int f(x) dx $$\n",
    "## Images\n",
    "![](https://nus.edu.sg/images/default-source/base/logo.png)"
   ]
  }
 ],
 "metadata": {
  "kernelspec": {
   "display_name": "Python 3 (ipykernel)",
   "language": "python",
   "name": "python3"
  },
  "language_info": {
   "codemirror_mode": {
    "name": "ipython",
    "version": 3
   },
   "file_extension": ".py",
   "mimetype": "text/x-python",
   "name": "python",
   "nbconvert_exporter": "python",
   "pygments_lexer": "ipython3",
   "version": "3.12.3"
  }
 },
 "nbformat": 4,
 "nbformat_minor": 5
}
