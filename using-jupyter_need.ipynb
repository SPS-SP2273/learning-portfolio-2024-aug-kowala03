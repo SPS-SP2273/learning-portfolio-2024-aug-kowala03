{
 "cells": [
  {
   "cell_type": "markdown",
   "id": "816f18ba-8b82-41b7-8bd2-715ef8ab271b",
   "metadata": {},
   "source": [
    "# The ships *hung in the sky* in much the same way that **bricks don’t.**<sup>1</sup><sub>QUOTE</sub>\n",
    "## Displaying Code\n",
    "```python\n",
    "print('Hello World!')\n",
    "```\n",
    "## Links\n",
    "[SP2273 Website](https://sps.nus.edu.sg/sp2273)\n",
    "## Equations\n",
    "$$\\int f(x) dx $$\n",
    "This is inline $x = \\dfrac{-b \\pm \\sqrt{b^2-4ac}}{2a}$\n",
    "## Images\n",
    "![](https://nus.edu.sg/images/default-source/base/logo.png)\n",
    "## Tables\n",
    "| A | B | C |\n",
    "|:--- | :--: | ---: |\n",
    "| a | b | c |\n",
    "\n",
    "## Lists\n",
    "1. Hello\n",
    "2. Nihao\n",
    "    1. Wah\n",
    "    2. ho"
   ]
  },
  {
   "cell_type": "code",
   "execution_count": 44,
   "id": "fe3c05b3-1a92-4a74-af8f-4a5331f47243",
   "metadata": {},
   "outputs": [
    {
     "name": "stdout",
     "output_type": "stream",
     "text": [
      "369 ns ± 23 ns per loop (mean ± std. dev. of 7 runs, 1,000,000 loops each)\n"
     ]
    }
   ],
   "source": [
    "%%timeit\n",
    "x=1\n",
    "for i in range(2,5):\n",
    "    x*=i #do not run print() with timeit, will crashh\n"
   ]
  }
 ],
 "metadata": {
  "kernelspec": {
   "display_name": "Python 3 (ipykernel)",
   "language": "python",
   "name": "python3"
  },
  "language_info": {
   "codemirror_mode": {
    "name": "ipython",
    "version": 3
   },
   "file_extension": ".py",
   "mimetype": "text/x-python",
   "name": "python",
   "nbconvert_exporter": "python",
   "pygments_lexer": "ipython3",
   "version": "3.12.3"
  }
 },
 "nbformat": 4,
 "nbformat_minor": 5
}
