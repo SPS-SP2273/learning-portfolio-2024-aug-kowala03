{
 "cells": [
  {
   "attachments": {},
   "cell_type": "markdown",
   "id": "123456",
   "metadata": {},
   "source": [
    "<div style=\"text-align:left;font-size:2em\"><span style=\"font-weight:bolder;font-size:1.25em\">SP2273 | Learning Portfolio</span><br><br><span style=\"font-weight:bold;color:darkred\">Fundamentals (Need) Exercises</span></div>"
   ]
  },
  {
   "cell_type": "markdown",
   "id": "af7339c1-10b2-49ad-bb9b-fe2130246a3a",
   "metadata": {},
   "source": [
    "## **Exercise 1**\n",
    "1. Reads code line by line, left to right.\n",
    "2. Functions need ().\n",
    "3. It is an interpreted language instead of compiled and as such is still able to run code with error, but only up till the first one encountered.\n",
    "4. Common types of variables are string, integer, float\n",
    "5. *It is case-sensitive*"
   ]
  },
  {
   "cell_type": "code",
   "execution_count": 4,
   "id": "79ac33fa-f374-475c-8e12-feef0529fe3e",
   "metadata": {},
   "outputs": [
    {
     "name": "stdout",
     "output_type": "stream",
     "text": [
      "3 4 5.0\n"
     ]
    }
   ],
   "source": [
    "import math\n",
    "x, y = 3, 4\n",
    "z = math.sqrt(x**2 + y**2)\n",
    "print(x, y, z)"
   ]
  },
  {
   "cell_type": "markdown",
   "id": "6efb61b0-f3b7-4884-965d-bfdcf70c5b9b",
   "metadata": {},
   "source": [
    "|#|Term|Description|\n",
    "|-|-|-|\n",
    "|1|Function|Something that does operations on the object it is applied on (in paranthesis).|\n",
    "|2|Arguments|Modifiers to the function that changes its output, separated from the object by commas in the paranthesis.|\n",
    "|3|Comments|Starts with # and will not be read by the Python interpretor, used for adding the writer's comments/ explaining choice of variable/ logic thought process|\n",
    "|4|Indentations|Creates a demarcated block of code that runs separate from un-indented lines, commonly found after *for* loops or *if else* blocks.|\n",
    "|5|Packages|An add-on of non-Python-native functions that allow Python to do more, without having to define them all the time, in a compact way, such as *math* and *numpy*.|\n",
    "|6|.|Indicates ownership of the subsequent object, to call its attribute when used without paranthesis or to specify which package it belongs to when used with functions.|\n",
    "|7|:|To indicate the start of a block of code running in a loop or involved in logic statements.|\n",
    "|8|[]|A list.|\n",
    "|9|[[],[]]|A list of lists.|\n",
    "|10|{}|A set, can be used as a dictionary of keys and values|"
   ]
  },
  {
   "cell_type": "code",
   "execution_count": 25,
   "id": "3951d6d2-c04e-4169-8a80-ea23b989410d",
   "metadata": {},
   "outputs": [
    {
     "data": {
      "text/plain": [
       "2.5"
      ]
     },
     "execution_count": 25,
     "metadata": {},
     "output_type": "execute_result"
    }
   ],
   "source": [
    "5/2           # What do I do? Normal division."
   ]
  },
  {
   "cell_type": "code",
   "execution_count": 14,
   "id": "985000c4-cc56-4e01-91ce-644472138fd5",
   "metadata": {},
   "outputs": [
    {
     "data": {
      "text/plain": [
       "2"
      ]
     },
     "execution_count": 14,
     "metadata": {},
     "output_type": "execute_result"
    }
   ],
   "source": [
    "5//2          # What do I do? Gives the quotient after division."
   ]
  },
  {
   "cell_type": "code",
   "execution_count": 26,
   "id": "e01f6d35-e4eb-468f-926a-a378c15fa715",
   "metadata": {},
   "outputs": [
    {
     "data": {
      "text/plain": [
       "5"
      ]
     },
     "execution_count": 26,
     "metadata": {},
     "output_type": "execute_result"
    }
   ],
   "source": [
    "11//2         # Quotient of 11/2 is 5 (remainder 1)"
   ]
  },
  {
   "cell_type": "code",
   "execution_count": 23,
   "id": "77ad220d-77b1-40df-8aa8-62d1c6bd3046",
   "metadata": {},
   "outputs": [
    {
     "data": {
      "text/plain": [
       "1"
      ]
     },
     "execution_count": 23,
     "metadata": {},
     "output_type": "execute_result"
    }
   ],
   "source": [
    "5%2           # What do I do? Gives the remainder after division."
   ]
  }
 ],
 "metadata": {
  "kernelspec": {
   "display_name": "Python 3 (ipykernel)",
   "language": "python",
   "name": "python3"
  },
  "language_info": {
   "codemirror_mode": {
    "name": "ipython",
    "version": 3
   },
   "file_extension": ".py",
   "mimetype": "text/x-python",
   "name": "python",
   "nbconvert_exporter": "python",
   "pygments_lexer": "ipython3",
   "version": "3.12.3"
  },
  "toc": {
   "base_numbering": 1,
   "nav_menu": {},
   "number_sections": true,
   "sideBar": true,
   "skip_h1_title": false,
   "title_cell": "Table of Contents",
   "title_sidebar": "Contents",
   "toc_cell": false,
   "toc_position": {},
   "toc_section_display": true,
   "toc_window_display": false
  },
  "vscode": {
   "interpreter": {
    "hash": "31f2aee4e71d21fbe5cf8b01ff0e069b9275f58929596ceb00d14d90e3e16cd6"
   }
  }
 },
 "nbformat": 4,
 "nbformat_minor": 5
}
