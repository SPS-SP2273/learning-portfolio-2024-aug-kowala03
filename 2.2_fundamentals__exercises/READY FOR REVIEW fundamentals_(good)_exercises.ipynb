{
 "cells": [
  {
   "attachments": {},
   "cell_type": "markdown",
   "id": "123456",
   "metadata": {},
   "source": [
    "<div style=\"text-align:left;font-size:2em\"><span style=\"font-weight:bolder;font-size:1.25em\">SP2273 | Learning Portfolio</span><br><br><span style=\"font-weight:bold;color:darkred\">Fundamentals (Good) Exercises</span></div>"
   ]
  },
  {
   "cell_type": "code",
   "execution_count": 14,
   "id": "35e34b43-b22c-4fb5-abbe-3749d4dd5e1b",
   "metadata": {},
   "outputs": [
    {
     "name": "stdin",
     "output_type": "stream",
     "text": [
      "May I know your name? aa\n"
     ]
    },
    {
     "name": "stdout",
     "output_type": "stream",
     "text": [
      "How you doin \u001b[1mAA\u001b[0m!\n"
     ]
    }
   ],
   "source": [
    "NAME=input('May I know your name?')\n",
    "print(f'How you doin \\033[1m{NAME.upper()}\\033[0m!')"
   ]
  },
  {
   "cell_type": "code",
   "execution_count": 17,
   "id": "0a7b2460-0716-45ac-8ad0-4849454201ec",
   "metadata": {},
   "outputs": [
    {
     "name": "stdin",
     "output_type": "stream",
     "text": [
      "May I know your name? aa\n",
      "And your age? 1\n"
     ]
    },
    {
     "name": "stdout",
     "output_type": "stream",
     "text": [
      "My name is \u001b[1mAA\u001b[0m and I am \u001b[1m1\u001b[0m years old.\n"
     ]
    }
   ],
   "source": [
    "NAME=input('May I know your name?')\n",
    "AGE=input('And your age?')\n",
    "print(f'My name is \\033[1m{NAME.upper()}\\033[0m and I am \\033[1m{AGE}\\033[0m years old.')"
   ]
  },
  {
   "cell_type": "code",
   "execution_count": 38,
   "id": "2d61e9b7-f49e-4d5b-80cb-4162f6e59014",
   "metadata": {},
   "outputs": [
    {
     "name": "stdout",
     "output_type": "stream",
     "text": [
      "The value of pi to 2 decimal places is 3.14\n",
      "The value of pi to 3 decimal places is 3.142\n",
      "The value of pi to 4 decimal places is 3.1416\n"
     ]
    }
   ],
   "source": [
    "import numpy as np\n",
    "pi=np.pi\n",
    "print(f'The value of pi to 2 decimal places is {pi:.2f}\\nThe value of pi to 3 decimal places is {pi:.3f}\\nThe value of pi to 4 decimal places is {pi:.4f}')"
   ]
  },
  {
   "cell_type": "code",
   "execution_count": 74,
   "id": "79f1ee4a-cc0c-4f07-aa8b-7c558cba487d",
   "metadata": {},
   "outputs": [
    {
     "name": "stdout",
     "output_type": "stream",
     "text": [
      "Apple      $ 0.99\n",
      "Banana     $ 0.59\n",
      "Orange     $ 1.29\n"
     ]
    }
   ],
   "source": [
    "p={'Apple':'0.99','Banana':'0.59','Orange':'1.29'}\n",
    "print(\n",
    "f'{'Apple':<10} ${p['Apple']:>5}\\n'\n",
    "f'{'Banana':<10} ${p['Banana']:>5}\\n'\n",
    "f'{'Orange':<10} ${p['Orange']:>5}'\n",
    ")"
   ]
  },
  {
   "cell_type": "code",
   "execution_count": 1,
   "id": "65297656-5d59-41df-858c-30d976b5ba20",
   "metadata": {},
   "outputs": [
    {
     "name": "stdin",
     "output_type": "stream",
     "text": [
      "Enter the student's score: 40\n"
     ]
    },
    {
     "name": "stdout",
     "output_type": "stream",
     "text": [
      "The student's letter grade is: C\n"
     ]
    }
   ],
   "source": [
    "score=input(\"Enter the student's score:\")\n",
    "\n",
    "if score.isnumeric()==True:\n",
    "    \n",
    "    score=int(score)\n",
    "    \n",
    "    if 70<=score<=100:\n",
    "        grade='A'\n",
    "        \n",
    "    elif 50<=score<=69:\n",
    "        grade='B'\n",
    "        \n",
    "    elif 35<=score<49:\n",
    "        grade='C'\n",
    "        \n",
    "    else:\n",
    "        grade='Fail'\n",
    "\n",
    "    print(f\"The student's letter grade is: {grade}\")\n",
    "\n",
    "else:\n",
    "    print('Please enter a number!')\n",
    "    # no need to worry about floats as grade boundaries dont even account for it, eg. 69.5"
   ]
  },
  {
   "cell_type": "code",
   "execution_count": 2,
   "id": "29088589-bd8b-4efd-aaaf-627ac11f5f9e",
   "metadata": {},
   "outputs": [
    {
     "name": "stdin",
     "output_type": "stream",
     "text": [
      "Enter the student's score: ninety\n"
     ]
    },
    {
     "name": "stdout",
     "output_type": "stream",
     "text": [
      "Please enter a number!\n"
     ]
    }
   ],
   "source": [
    "score=input(\"Enter the student's score:\")\n",
    "\n",
    "if score.isnumeric()==True:\n",
    "    \n",
    "    score=int(score)\n",
    "    \n",
    "    if 70<=score<=100:\n",
    "        grade='A'\n",
    "        \n",
    "    elif 50<=score<=69:\n",
    "        grade='B'\n",
    "        \n",
    "    elif 35<=score<49:\n",
    "        grade='C'\n",
    "        \n",
    "    else:\n",
    "        grade='Fail'\n",
    "\n",
    "    print(f\"The student's letter grade is: {grade}\")\n",
    "\n",
    "else:\n",
    "    print('Please enter a number!')\n",
    "    # no need to worry about floats as grade boundaries dont even account for it, eg. 69.5"
   ]
  },
  {
   "cell_type": "code",
   "execution_count": 7,
   "id": "32acadb3-5502-434f-8c5c-3fe580408c42",
   "metadata": {},
   "outputs": [
    {
     "name": "stdout",
     "output_type": "stream",
     "text": [
      "Invalid input\n",
      "1\n"
     ]
    }
   ],
   "source": [
    "# TESTING INCORRECT CODE\n",
    "def factorial(n):\n",
    "    if n > 0:\n",
    "        return \"Invalid input\"\n",
    "    elif n != 0:\n",
    "        return 1\n",
    "    else:\n",
    "        result = 1\n",
    "        for number in range(1, n+1):\n",
    "            result += number\n",
    "        return result\n",
    "\n",
    "\n",
    "print(factorial(5))   # Testing, expected output: 120\n",
    "print(factorial(-1))  # Testing, expected output: Invalid input"
   ]
  },
  {
   "cell_type": "code",
   "execution_count": 6,
   "id": "85c34e85-f0a5-45b7-a08b-1f957386addc",
   "metadata": {},
   "outputs": [
    {
     "name": "stdout",
     "output_type": "stream",
     "text": [
      "120\n",
      "Invalid input\n"
     ]
    }
   ],
   "source": [
    "# CORRECTED CODE\n",
    "def factorial(n):\n",
    "    if n < 0: # factorial not defined for negative numbers\n",
    "        return \"Invalid input\"\n",
    "    elif n == 0:\n",
    "        return 1\n",
    "    else:\n",
    "        result = 1\n",
    "        for number in range(1, n+1):\n",
    "            result *= number\n",
    "        return result\n",
    "\n",
    "\n",
    "print(factorial(5))   # Testing, expected output: 120\n",
    "print(factorial(-1))  # Testing, expected output: Invalid input"
   ]
  }
 ],
 "metadata": {
  "kernelspec": {
   "display_name": "Python 3 (ipykernel)",
   "language": "python",
   "name": "python3"
  },
  "language_info": {
   "codemirror_mode": {
    "name": "ipython",
    "version": 3
   },
   "file_extension": ".py",
   "mimetype": "text/x-python",
   "name": "python",
   "nbconvert_exporter": "python",
   "pygments_lexer": "ipython3",
   "version": "3.12.3"
  },
  "toc": {
   "base_numbering": 1,
   "nav_menu": {},
   "number_sections": true,
   "sideBar": true,
   "skip_h1_title": false,
   "title_cell": "Table of Contents",
   "title_sidebar": "Contents",
   "toc_cell": false,
   "toc_position": {},
   "toc_section_display": true,
   "toc_window_display": false
  },
  "vscode": {
   "interpreter": {
    "hash": "31f2aee4e71d21fbe5cf8b01ff0e069b9275f58929596ceb00d14d90e3e16cd6"
   }
  }
 },
 "nbformat": 4,
 "nbformat_minor": 5
}
