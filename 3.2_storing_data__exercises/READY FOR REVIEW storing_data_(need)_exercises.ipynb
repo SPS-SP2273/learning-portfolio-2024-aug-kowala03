{
 "cells": [
  {
   "attachments": {},
   "cell_type": "markdown",
   "id": "123456",
   "metadata": {},
   "source": [
    "<div style=\"text-align:left;font-size:2em\"><span style=\"font-weight:bolder;font-size:1.25em\">SP2273 | Learning Portfolio</span><br><br><span style=\"font-weight:bold;color:darkred\">Storing Data (Need) Exercises</span></div>"
   ]
  },
  {
   "cell_type": "markdown",
   "id": "7f86c143-cbb3-4a86-9a26-4165ddad6bc1",
   "metadata": {},
   "source": [
    "### Exercise 1\n",
    "1. Both store data as elements and are mutable.\n",
    "2. Lists are native to Python but arrays are objects that come from math or numpy packages. Array logic works more like math like array+[1] adds 1 to all elements but list would append.\n",
    "3. A dictionary stores keys and values and relates every key to a value such that it outputs the value when indexed with the key."
   ]
  },
  {
   "cell_type": "code",
   "execution_count": 1,
   "id": "1182da58-c617-4bff-95b3-04fcfdeb2903",
   "metadata": {},
   "outputs": [
    {
     "data": {
      "text/plain": [
       "array([1, 2, 3])"
      ]
     },
     "execution_count": 1,
     "metadata": {},
     "output_type": "execute_result"
    }
   ],
   "source": [
    "import numpy as np\n",
    "\n",
    "a=[0,1,2]\n",
    "a+[1]\n",
    "\n",
    "b=np.array(a)\n",
    "b+[1]"
   ]
  },
  {
   "cell_type": "code",
   "execution_count": 2,
   "id": "38630e90-1072-4d6b-8812-ef49dbecc396",
   "metadata": {},
   "outputs": [
    {
     "name": "stdout",
     "output_type": "stream",
     "text": [
      "a1\n",
      "c3\n",
      "e5\n",
      "g7\n",
      "i9\n"
     ]
    }
   ],
   "source": [
    "py_list = [\"a1\", \"b2\", \"c3\", \"d4\", \"e5\", \"f6\", \"g7\", \"h8\", \"i9\", \"j10\"]\n",
    "for i in range(0,4):\n",
    "    print(py_list[2*i])    # Prints 'a1'\n",
    "                    # Prints 'c3'\n",
    "                    # Prints 'e5'\n",
    "                    # Prints 'g7'\n",
    "print(py_list[8])   # Prints 'i9'"
   ]
  },
  {
   "cell_type": "code",
   "execution_count": 3,
   "id": "b817f060-7e25-4f0f-ad08-65a329c670fa",
   "metadata": {},
   "outputs": [
    {
     "name": "stdout",
     "output_type": "stream",
     "text": [
      "Boron\n",
      "Boron\n"
     ]
    }
   ],
   "source": [
    "elements = ['Hydrogen',\n",
    "            'Helium', 'Lithium',\n",
    "            'Beryllium', 'Boron', 'Carbon',\n",
    "            'Nitrogen', 'Oxygen',\n",
    "            'Fluorine',\n",
    "            'Neon']\n",
    "print(elements[4])\n",
    "print(elements[-(len(elements)-4)])"
   ]
  },
  {
   "cell_type": "code",
   "execution_count": 4,
   "id": "50ab9946-5050-4e3d-8616-43d9cabd38c0",
   "metadata": {},
   "outputs": [
    {
     "data": {
      "text/plain": [
       "np.int64(9)"
      ]
     },
     "execution_count": 4,
     "metadata": {},
     "output_type": "execute_result"
    }
   ],
   "source": [
    "import numpy as np\n",
    "numbers=[45, 60, 1, 30, 96, 1, 96, 57, 16, 1,\n",
    "        99, 62, 86, 43, 42, 60, 59, 1, 1, 35,\n",
    "        83, 47, 34, 28, 68, 23, 22, 92, 1, 79,\n",
    "        1, 29, 94, 72, 46, 47, 1, 74, 32, 20,\n",
    "        8, 37, 35, 1, 89, 29, 86, 19, 43, 61]\n",
    "np_numbers=np.array(numbers)\n",
    "mask=np_numbers==1\n",
    "mask.sum()"
   ]
  },
  {
   "cell_type": "code",
   "execution_count": 5,
   "id": "f0a1e1a3-3884-4033-a752-0018eeec85fa",
   "metadata": {},
   "outputs": [],
   "source": [
    "x_1 = [1, 4, 9, 16, 25, 36, 49, 64, 81, 100]\n",
    "x_2 = [1, 8, 27, 64, 125, 216, 343, 512, 729, 1000]"
   ]
  },
  {
   "cell_type": "code",
   "execution_count": 6,
   "id": "c8fcb5c8-f894-4070-9661-eab1033408ba",
   "metadata": {},
   "outputs": [
    {
     "name": "stdout",
     "output_type": "stream",
     "text": [
      "38.5 302.5\n"
     ]
    }
   ],
   "source": [
    "mean_1=np.mean(x_1)\n",
    "mean_2=np.mean(x_2)\n",
    "print(mean_1, mean_2)"
   ]
  },
  {
   "cell_type": "code",
   "execution_count": 7,
   "id": "824d2147-3914-4a27-b126-ea6eb5f657e2",
   "metadata": {},
   "outputs": [
    {
     "name": "stdout",
     "output_type": "stream",
     "text": [
      "32.41990129534635 326.0893282522444\n"
     ]
    }
   ],
   "source": [
    "sd_1=np.std(x_1)\n",
    "sd_2=np.std(x_2)\n",
    "print(sd_1, sd_2)"
   ]
  },
  {
   "cell_type": "code",
   "execution_count": 21,
   "id": "c83aafe0-dc02-428f-9f42-3d20e26b954a",
   "metadata": {},
   "outputs": [
    {
     "name": "stdout",
     "output_type": "stream",
     "text": [
      "0.9871796626270701\n",
      "[[1.         0.98717966]\n",
      " [0.98717966 1.        ]]\n"
     ]
    }
   ],
   "source": [
    "a,b,c,x,y,X,Y=0,0,0,0,0,0,0\n",
    "for i in range(len(x_1)):\n",
    "    x=(x_1[i]-mean_1)\n",
    "    y=(x_2[i]-mean_2)\n",
    "    a+=x*y\n",
    "    X+=x**2\n",
    "    Y+=y**2\n",
    "b=np.sqrt(X*Y)\n",
    "r=a/b\n",
    "print(r)\n",
    "\n",
    "print(np.corrcoef(x_1,x_2))"
   ]
  },
  {
   "cell_type": "markdown",
   "id": "59072441-8101-4065-b636-56ed9e8d7ff4",
   "metadata": {},
   "source": [
    "The Pearson's correlation coefficient calculated manually and the one given by np.corrcoef() match to a high degree of precision and it is likely that numpy uses the same code to generate the coefficient."
   ]
  }
 ],
 "metadata": {
  "kernelspec": {
   "display_name": "Python 3 (ipykernel)",
   "language": "python",
   "name": "python3"
  },
  "language_info": {
   "codemirror_mode": {
    "name": "ipython",
    "version": 3
   },
   "file_extension": ".py",
   "mimetype": "text/x-python",
   "name": "python",
   "nbconvert_exporter": "python",
   "pygments_lexer": "ipython3",
   "version": "3.12.3"
  },
  "toc": {
   "base_numbering": 1,
   "nav_menu": {},
   "number_sections": true,
   "sideBar": true,
   "skip_h1_title": false,
   "title_cell": "Table of Contents",
   "title_sidebar": "Contents",
   "toc_cell": false,
   "toc_position": {},
   "toc_section_display": true,
   "toc_window_display": false
  },
  "vscode": {
   "interpreter": {
    "hash": "31f2aee4e71d21fbe5cf8b01ff0e069b9275f58929596ceb00d14d90e3e16cd6"
   }
  }
 },
 "nbformat": 4,
 "nbformat_minor": 5
}
