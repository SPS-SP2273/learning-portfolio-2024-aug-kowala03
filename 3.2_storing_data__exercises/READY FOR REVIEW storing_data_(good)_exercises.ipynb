{
 "cells": [
  {
   "attachments": {},
   "cell_type": "markdown",
   "id": "123456",
   "metadata": {},
   "source": [
    "<div style=\"text-align:left;font-size:2em\"><span style=\"font-weight:bolder;font-size:1.25em\">SP2273 | Learning Portfolio</span><br><br><span style=\"font-weight:bold;color:darkred\">Storing Data (Good) Exercises</span></div>"
   ]
  },
  {
   "cell_type": "markdown",
   "id": "aa982edc-26c4-4e91-9ab5-7aa2cb0ad604",
   "metadata": {},
   "source": [
    "## Exercise 1"
   ]
  },
  {
   "cell_type": "markdown",
   "id": "a81b6813-908a-45d4-9420-226aa1de15ca",
   "metadata": {},
   "source": [
    "|    Term    |                                                                    Brief Description                                                                    |   |   |   |\n",
    "|:----------:|:-------------------------------------------------------------------------------------------------------------------------------------------------------:|---|---|---|\n",
    "| Subsetting | Extraction of elements from a larger list of them based on certain parameters or index                                                                  |   |   |   |\n",
    "|  Indexing  | Python is a 0-index language so the 1st element in a list will be indexed as 0. *Selection of a single element by referencing its position in the list* |   |   |   |\n",
    "|   Slicing  | *Selecting a range of elements from a list based on a start, end position and interval of selection*                                                    |   |   |   |\n",
    "|   Masking  | Converting a list into True or False based on a binary condition applied to a whole list.                                                               |   |   |   |"
   ]
  },
  {
   "cell_type": "code",
   "execution_count": 1,
   "id": "f5cf705a-0ee7-4fd2-8b26-099a30f75365",
   "metadata": {},
   "outputs": [],
   "source": [
    "import numpy as np"
   ]
  },
  {
   "cell_type": "markdown",
   "id": "9e03ffca-bce0-468a-a1a5-c959ec9355dd",
   "metadata": {},
   "source": [
    "## Exercise 2"
   ]
  },
  {
   "cell_type": "code",
   "execution_count": 2,
   "id": "94e4e31e-3967-4034-a08f-2f3050e6adb1",
   "metadata": {},
   "outputs": [],
   "source": [
    "np_array_2d = np.array([[1, \"A\"], [3, \"C\"], [2, \"B\"], [4, \"D\"],\n",
    "                        [5, \"E\"], [7, \"G\"], [6, \"F\"], [8, \"H\"],\n",
    "                        [10, \"J\"], [9, \"I\"]])"
   ]
  },
  {
   "cell_type": "code",
   "execution_count": 3,
   "id": "ce10e3fa-5944-458e-905a-4e06b37f1e03",
   "metadata": {},
   "outputs": [
    {
     "data": {
      "text/plain": [
       "array([ 1,  3,  2,  4,  5,  7,  6,  8, 10,  9])"
      ]
     },
     "execution_count": 3,
     "metadata": {},
     "output_type": "execute_result"
    }
   ],
   "source": [
    "np_array_int=np.array(np_array_2d[0:,0]).astype(int)\n",
    "np_array_int"
   ]
  },
  {
   "cell_type": "code",
   "execution_count": 4,
   "id": "c0a42360-f6b6-4e3e-8792-06c20ef05aa3",
   "metadata": {},
   "outputs": [
    {
     "data": {
      "text/plain": [
       "array([ True,  True, False, False,  True,  True, False, False, False,\n",
       "        True])"
      ]
     },
     "execution_count": 4,
     "metadata": {},
     "output_type": "execute_result"
    }
   ],
   "source": [
    "odd_mask = np_array_int % 2 != 0\n",
    "odd_mask"
   ]
  },
  {
   "cell_type": "code",
   "execution_count": 5,
   "id": "39914635-b4af-44ce-9d42-0585ecd52da6",
   "metadata": {},
   "outputs": [
    {
     "data": {
      "text/plain": [
       "array(['A', 'C', 'E', 'G', 'I'], dtype='<U21')"
      ]
     },
     "execution_count": 5,
     "metadata": {},
     "output_type": "execute_result"
    }
   ],
   "source": [
    "odd_np_array_elem=np_array_2d[odd_mask,1]\n",
    "odd_np_array_elem"
   ]
  },
  {
   "cell_type": "markdown",
   "id": "db49955e-9603-4f8d-9c7d-13052a2c6184",
   "metadata": {},
   "source": [
    "## Exercise 3"
   ]
  },
  {
   "cell_type": "markdown",
   "id": "7b96551e-db8d-4292-b8ad-2f789f45d3d6",
   "metadata": {},
   "source": [
    "### Solution 1"
   ]
  },
  {
   "cell_type": "code",
   "execution_count": 6,
   "id": "4228c8bf-7330-4f3f-bea0-216b99b9a245",
   "metadata": {},
   "outputs": [
    {
     "name": "stdout",
     "output_type": "stream",
     "text": [
      "[[ 1  0  1 -1 -1]\n",
      " [ 1 -1  1 -1 -1]\n",
      " [ 1 -1 -1  1 -1]\n",
      " [-1  1  1 -1 -1]\n",
      " [ 1 -1  1 -1  1]]\n"
     ]
    }
   ],
   "source": [
    "np_array=np.array(\n",
    "[[66, 50, 57, -1, -1],\n",
    " [92, -1, 88, -1, -1],\n",
    " [75, -1, -1, 76, -1],\n",
    " [-1, 51, 87, -1, -1],\n",
    " [71, -1, 67, -1, 69]])\n",
    "\n",
    "equality={'<':-1, '>':1, '==':0}\n",
    "for i in equality:\n",
    "    np_array[eval(f'np_array {i} 50') == 1] = equality[i] # removed unnecessary np.where()\n",
    "    \n",
    "print(np_array)"
   ]
  },
  {
   "cell_type": "markdown",
   "id": "32e195d6-a6cb-4e2b-9f43-256054604fbd",
   "metadata": {},
   "source": [
    "### Solution 2"
   ]
  },
  {
   "cell_type": "code",
   "execution_count": 7,
   "id": "536a16c4-c22b-444f-80fd-da6fdf610ae9",
   "metadata": {},
   "outputs": [
    {
     "name": "stdout",
     "output_type": "stream",
     "text": [
      "[[ 1  0  1 -1 -1]\n",
      " [ 1 -1  1 -1 -1]\n",
      " [ 1 -1 -1  1 -1]\n",
      " [-1  1  1 -1 -1]\n",
      " [ 1 -1  1 -1  1]]\n"
     ]
    }
   ],
   "source": [
    "np_array=np.array(\n",
    "[[66, 50, 57, -1, -1],\n",
    " [92, -1, 88, -1, -1],\n",
    " [75, -1, -1, 76, -1],\n",
    " [-1, 51, 87, -1, -1],\n",
    " [71, -1, 67, -1, 69]])\n",
    "\n",
    "np_array[np.where((np_array < 50) == 1)] = -1\n",
    "np_array[np.where((np_array > 50) == 1)] = 1\n",
    "np_array[np.where((np_array == 50) == 1)] = 0 # faster code but less flexible for expansion (?)\n",
    "\n",
    "print(np_array)"
   ]
  }
 ],
 "metadata": {
  "kernelspec": {
   "display_name": "Python 3 (ipykernel)",
   "language": "python",
   "name": "python3"
  },
  "language_info": {
   "codemirror_mode": {
    "name": "ipython",
    "version": 3
   },
   "file_extension": ".py",
   "mimetype": "text/x-python",
   "name": "python",
   "nbconvert_exporter": "python",
   "pygments_lexer": "ipython3",
   "version": "3.12.3"
  },
  "toc": {
   "base_numbering": 1,
   "nav_menu": {},
   "number_sections": true,
   "sideBar": true,
   "skip_h1_title": false,
   "title_cell": "Table of Contents",
   "title_sidebar": "Contents",
   "toc_cell": false,
   "toc_position": {},
   "toc_section_display": true,
   "toc_window_display": false
  },
  "vscode": {
   "interpreter": {
    "hash": "31f2aee4e71d21fbe5cf8b01ff0e069b9275f58929596ceb00d14d90e3e16cd6"
   }
  }
 },
 "nbformat": 4,
 "nbformat_minor": 5
}
