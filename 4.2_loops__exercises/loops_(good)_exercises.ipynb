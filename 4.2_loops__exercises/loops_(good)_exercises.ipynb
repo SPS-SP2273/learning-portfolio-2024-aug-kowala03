{
 "cells": [
  {
   "attachments": {},
   "cell_type": "markdown",
   "id": "123456",
   "metadata": {},
   "source": [
    "<div style=\"text-align:left;font-size:2em\"><span style=\"font-weight:bolder;font-size:1.25em\">SP2273 | Learning Portfolio</span><br><br><span style=\"font-weight:bold;color:darkred\">Loops (Good) Exercises</span></div>"
   ]
  },
  {
   "cell_type": "code",
   "execution_count": 14,
   "id": "879f1202-e62a-4fe4-aae3-6a0a3a2b113c",
   "metadata": {},
   "outputs": [
    {
     "name": "stdout",
     "output_type": "stream",
     "text": [
      "[1, 9, 25, 49, 81]\n"
     ]
    }
   ],
   "source": [
    "odd_squares = []\n",
    "for i in range(10):\n",
    "    if i % 2 != 0:\n",
    "        odd_squares += [i**2]\n",
    "print(odd_squares)\n"
   ]
  },
  {
   "cell_type": "code",
   "execution_count": 15,
   "id": "6658e27e-fc97-4df5-9ddc-49fadf60b901",
   "metadata": {},
   "outputs": [
    {
     "data": {
      "text/plain": [
       "[1, 9, 25, 49, 81]"
      ]
     },
     "execution_count": 15,
     "metadata": {},
     "output_type": "execute_result"
    }
   ],
   "source": [
    "[number**2 for number in range(10) if number % 2 !=0]"
   ]
  },
  {
   "cell_type": "code",
   "execution_count": 17,
   "id": "dd558875-2634-4fad-877b-75df826e333b",
   "metadata": {},
   "outputs": [
    {
     "name": "stdout",
     "output_type": "stream",
     "text": [
      "1.53 μs ± 217 ns per loop (mean ± std. dev. of 7 runs, 1,000,000 loops each)\n"
     ]
    }
   ],
   "source": [
    "%%timeit\n",
    "odd_squares = []\n",
    "for i in range(10):\n",
    "    if i % 2 != 0:\n",
    "        odd_squares += [i**2]\n"
   ]
  },
  {
   "cell_type": "code",
   "execution_count": 18,
   "id": "98a7ae07-35c7-484b-993a-95a6aaf003ed",
   "metadata": {},
   "outputs": [
    {
     "name": "stdout",
     "output_type": "stream",
     "text": [
      "1.14 μs ± 112 ns per loop (mean ± std. dev. of 7 runs, 1,000,000 loops each)\n"
     ]
    }
   ],
   "source": [
    "%%timeit\n",
    "[number**2 for number in range(10) if number % 2 !=0]"
   ]
  },
  {
   "cell_type": "markdown",
   "id": "a987643b-9f36-4d3a-a61e-cb9e23b22ecc",
   "metadata": {},
   "source": [
    "List comprehension is faster."
   ]
  },
  {
   "cell_type": "code",
   "execution_count": 20,
   "id": "402d5211-6fc5-4307-b45e-ddce6a3ccf43",
   "metadata": {},
   "outputs": [
    {
     "name": "stdout",
     "output_type": "stream",
     "text": [
      "14\n"
     ]
    }
   ],
   "source": [
    "sample_i = 100\n",
    "sample_t = sample_i\n",
    "t = 0\n",
    "\n",
    "while sample_t > sample_i / 2:\n",
    "    sample_t = 0.95 * sample_t\n",
    "    t += 1\n",
    "\n",
    "print(t)"
   ]
  }
 ],
 "metadata": {
  "kernelspec": {
   "display_name": "Python 3 (ipykernel)",
   "language": "python",
   "name": "python3"
  },
  "language_info": {
   "codemirror_mode": {
    "name": "ipython",
    "version": 3
   },
   "file_extension": ".py",
   "mimetype": "text/x-python",
   "name": "python",
   "nbconvert_exporter": "python",
   "pygments_lexer": "ipython3",
   "version": "3.12.3"
  },
  "toc": {
   "base_numbering": 1,
   "nav_menu": {},
   "number_sections": true,
   "sideBar": true,
   "skip_h1_title": false,
   "title_cell": "Table of Contents",
   "title_sidebar": "Contents",
   "toc_cell": false,
   "toc_position": {},
   "toc_section_display": true,
   "toc_window_display": false
  },
  "vscode": {
   "interpreter": {
    "hash": "31f2aee4e71d21fbe5cf8b01ff0e069b9275f58929596ceb00d14d90e3e16cd6"
   }
  }
 },
 "nbformat": 4,
 "nbformat_minor": 5
}
