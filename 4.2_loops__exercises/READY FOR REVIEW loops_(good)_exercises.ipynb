{
 "cells": [
  {
   "attachments": {},
   "cell_type": "markdown",
   "id": "123456",
   "metadata": {},
   "source": [
    "<div style=\"text-align:left;font-size:2em\"><span style=\"font-weight:bolder;font-size:1.25em\">SP2273 | Learning Portfolio</span><br><br><span style=\"font-weight:bold;color:darkred\">Loops (Good) Exercises</span></div>"
   ]
  },
  {
   "cell_type": "code",
   "execution_count": 1,
   "id": "879f1202-e62a-4fe4-aae3-6a0a3a2b113c",
   "metadata": {},
   "outputs": [
    {
     "name": "stdout",
     "output_type": "stream",
     "text": [
      "[1, 9, 25, 49, 81]\n"
     ]
    }
   ],
   "source": [
    "odd_squares = []\n",
    "for i in range(10):\n",
    "    if i % 2 != 0:\n",
    "        odd_squares += [i**2]\n",
    "print(odd_squares)\n"
   ]
  },
  {
   "cell_type": "code",
   "execution_count": 2,
   "id": "6658e27e-fc97-4df5-9ddc-49fadf60b901",
   "metadata": {},
   "outputs": [
    {
     "data": {
      "text/plain": [
       "[1, 9, 25, 49, 81]"
      ]
     },
     "execution_count": 2,
     "metadata": {},
     "output_type": "execute_result"
    }
   ],
   "source": [
    "[number**2 for number in range(10) if number % 2 != 0]"
   ]
  },
  {
   "cell_type": "code",
   "execution_count": 3,
   "id": "dd558875-2634-4fad-877b-75df826e333b",
   "metadata": {},
   "outputs": [
    {
     "name": "stdout",
     "output_type": "stream",
     "text": [
      "1.73 μs ± 467 ns per loop (mean ± std. dev. of 7 runs, 1,000,000 loops each)\n"
     ]
    }
   ],
   "source": [
    "%%timeit\n",
    "odd_squares = []\n",
    "for i in range(10):\n",
    "    if i % 2 != 0:\n",
    "        odd_squares += [i**2]"
   ]
  },
  {
   "cell_type": "code",
   "execution_count": 4,
   "id": "98a7ae07-35c7-484b-993a-95a6aaf003ed",
   "metadata": {},
   "outputs": [
    {
     "name": "stdout",
     "output_type": "stream",
     "text": [
      "1.44 μs ± 52 ns per loop (mean ± std. dev. of 7 runs, 1,000,000 loops each)\n"
     ]
    }
   ],
   "source": [
    "%%timeit\n",
    "[number**2 for number in range(10) if number % 2 != 0]"
   ]
  },
  {
   "cell_type": "markdown",
   "id": "a987643b-9f36-4d3a-a61e-cb9e23b22ecc",
   "metadata": {},
   "source": [
    "List comprehension is faster. Might be because in the for loop, the append function has to be called for each iteration, which takes time. range(10) also has to be stored in a variable i and called in the loop."
   ]
  },
  {
   "cell_type": "code",
   "execution_count": null,
   "id": "b9ab6bca-2287-4161-9f64-affcdf602a4e",
   "metadata": {},
   "outputs": [],
   "source": [
    "# trying by calling append"
   ]
  },
  {
   "cell_type": "code",
   "execution_count": 8,
   "id": "7775f9c0-9434-48fa-b567-b155e6e00cbe",
   "metadata": {},
   "outputs": [
    {
     "name": "stdout",
     "output_type": "stream",
     "text": [
      "1.99 μs ± 116 ns per loop (mean ± std. dev. of 7 runs, 100,000 loops each)\n"
     ]
    }
   ],
   "source": [
    "%%timeit\n",
    "odd_squares = []\n",
    "for i in range(10):\n",
    "    if i % 2 != 0:\n",
    "        odd_squares.append([i**2])"
   ]
  },
  {
   "cell_type": "code",
   "execution_count": null,
   "id": "402d5211-6fc5-4307-b45e-ddce6a3ccf43",
   "metadata": {},
   "outputs": [],
   "source": [
    "sample_i = 100\n",
    "sample_t = sample_i\n",
    "t = 0\n",
    "\n",
    "while sample_t > sample_i / 2:\n",
    "    sample_t = 0.95 * sample_t\n",
    "    t += 1\n",
    "\n",
    "print(t)"
   ]
  },
  {
   "cell_type": "code",
   "execution_count": null,
   "id": "525bc5dd-a869-46ea-82f6-aab9d3bd2ba7",
   "metadata": {},
   "outputs": [],
   "source": [
    "co2_data = [\n",
    "    (2000, 369.55), (2001, 371.14), (2002, 373.28), \n",
    "    (2003, 375.80), (2004, 377.52), (2005, 379.80), \n",
    "    (2006, 381.90), (2007, 383.79), (2008, 385.60), \n",
    "    (2009, 387.43), (2010, 389.90), (2011, 391.65), \n",
    "    (2012, 393.85), (2013, 396.52), (2014, 398.65),\n",
    "    (2015, 400.83), (2016, 404.24), (2017, 406.55), \n",
    "    (2018, 408.52), (2019, 411.44), (2020, 414.24)\n",
    "]\n",
    "\n",
    "for i in range(1,len(co2_data)):\n",
    "    co2_change = co2_data[i][1]-co2_data[i-1][1]\n",
    "    if co2_change >= 3:\n",
    "        print(co2_data[i][0], co2_change)"
   ]
  },
  {
   "cell_type": "code",
   "execution_count": null,
   "id": "fa7ac94c-008f-4d70-a839-60a0dff52800",
   "metadata": {},
   "outputs": [],
   "source": [
    "# to be a bit more concise and remove excessive range(len())\n",
    "\n",
    "co2_data = [\n",
    "    (2000, 369.55), (2001, 371.14), (2002, 373.28), \n",
    "    (2003, 375.80), (2004, 377.52), (2005, 379.80), \n",
    "    (2006, 381.90), (2007, 383.79), (2008, 385.60), \n",
    "    (2009, 387.43), (2010, 389.90), (2011, 391.65), \n",
    "    (2012, 393.85), (2013, 396.52), (2014, 398.65),\n",
    "    (2015, 400.83), (2016, 404.24), (2017, 406.55), \n",
    "    (2018, 408.52), (2019, 411.44), (2020, 414.24)\n",
    "]\n",
    "\n",
    "for index, year_co2 in enumerate(co2_data[1:]): \n",
    "\n",
    "    co2_change = year_co2[1] - co2_data[index][1]\n",
    "    \n",
    "    if co2_change >= 3:\n",
    "        print(year_co2[0], co2_change)"
   ]
  }
 ],
 "metadata": {
  "kernelspec": {
   "display_name": "Python 3 (ipykernel)",
   "language": "python",
   "name": "python3"
  },
  "language_info": {
   "codemirror_mode": {
    "name": "ipython",
    "version": 3
   },
   "file_extension": ".py",
   "mimetype": "text/x-python",
   "name": "python",
   "nbconvert_exporter": "python",
   "pygments_lexer": "ipython3",
   "version": "3.12.3"
  },
  "toc": {
   "base_numbering": 1,
   "nav_menu": {},
   "number_sections": true,
   "sideBar": true,
   "skip_h1_title": false,
   "title_cell": "Table of Contents",
   "title_sidebar": "Contents",
   "toc_cell": false,
   "toc_position": {},
   "toc_section_display": true,
   "toc_window_display": false
  },
  "vscode": {
   "interpreter": {
    "hash": "31f2aee4e71d21fbe5cf8b01ff0e069b9275f58929596ceb00d14d90e3e16cd6"
   }
  }
 },
 "nbformat": 4,
 "nbformat_minor": 5
}
